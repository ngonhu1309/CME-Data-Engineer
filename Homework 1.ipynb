{
 "cells": [
  {
   "cell_type": "markdown",
   "id": "d405501d-234d-40e4-ab02-b700274da61f",
   "metadata": {},
   "source": [
    "SECTION 2.1"
   ]
  },
  {
   "cell_type": "code",
   "execution_count": 62,
   "id": "d1fea657-182f-470f-aecb-be985f762341",
   "metadata": {},
   "outputs": [
    {
     "name": "stdout",
     "output_type": "stream",
     "text": [
      "Hello world\n"
     ]
    }
   ],
   "source": [
    "print(\"Hello world\")"
   ]
  },
  {
   "cell_type": "markdown",
   "id": "cbfd2f44-c6e8-4493-a9c5-f0e3964c8fd3",
   "metadata": {},
   "source": [
    "SECTION 2.2"
   ]
  },
  {
   "cell_type": "code",
   "execution_count": 64,
   "id": "2e65968d-6d0d-4d62-aec2-d58cd773eadf",
   "metadata": {},
   "outputs": [
    {
     "name": "stdout",
     "output_type": "stream",
     "text": [
      "5\n"
     ]
    }
   ],
   "source": [
    "In [1]: a = 5\n",
    "In [2]: print(a)"
   ]
  },
  {
   "cell_type": "code",
   "execution_count": 65,
   "id": "82199bc6-b4b0-4096-8d52-6b12a0fc93ff",
   "metadata": {},
   "outputs": [
    {
     "data": {
      "text/plain": [
       "[-0.6412440318129384,\n",
       " 1.4813606148447722,\n",
       " 1.7277686980894484,\n",
       " -0.6898649573836376,\n",
       " 0.35521632568053474,\n",
       " -0.5457429951759785,\n",
       " -2.16305697556568]"
      ]
     },
     "execution_count": 65,
     "metadata": {},
     "output_type": "execute_result"
    }
   ],
   "source": [
    "In [5]: import numpy as np\n",
    "In [6]: data = [np.random.standard_normal() for i in range(7)]\n",
    "In [7]: data"
   ]
  },
  {
   "cell_type": "code",
   "execution_count": 66,
   "id": "1840923e-1bd2-45ee-abba-8cc37b08a777",
   "metadata": {},
   "outputs": [
    {
     "name": "stdout",
     "output_type": "stream",
     "text": [
      "[-0.6412440318129384, 1.4813606148447722, 1.7277686980894484, -0.6898649573836376, 0.35521632568053474, -0.5457429951759785, -2.16305697556568]\n"
     ]
    }
   ],
   "source": [
    "# My testing\n",
    "print(data)"
   ]
  },
  {
   "cell_type": "code",
   "execution_count": 67,
   "id": "19a5f4a3-1f44-407c-bfb9-de46840cc31a",
   "metadata": {},
   "outputs": [
    {
     "data": {
      "text/plain": [
       "\u001b[1;31mType:\u001b[0m        list\n",
       "\u001b[1;31mString form:\u001b[0m [1, 2, 3]\n",
       "\u001b[1;31mLength:\u001b[0m      3\n",
       "\u001b[1;31mDocstring:\u001b[0m  \n",
       "Built-in mutable sequence.\n",
       "\n",
       "If no argument is given, the constructor creates a new empty list.\n",
       "The argument must be an iterable if specified."
      ]
     },
     "metadata": {},
     "output_type": "display_data"
    }
   ],
   "source": [
    "# Textbook Example\n",
    "In [1]: b = [1, 2, 3]\n",
    "\n",
    "In [2]: b?"
   ]
  },
  {
   "cell_type": "code",
   "execution_count": 68,
   "id": "4fd716c5-b84e-4ee3-a46f-6eaa289494d1",
   "metadata": {},
   "outputs": [
    {
     "data": {
      "text/plain": [
       "\u001b[1;31mSignature:\u001b[0m \u001b[0mprint\u001b[0m\u001b[1;33m(\u001b[0m\u001b[1;33m*\u001b[0m\u001b[0margs\u001b[0m\u001b[1;33m,\u001b[0m \u001b[0msep\u001b[0m\u001b[1;33m=\u001b[0m\u001b[1;34m' '\u001b[0m\u001b[1;33m,\u001b[0m \u001b[0mend\u001b[0m\u001b[1;33m=\u001b[0m\u001b[1;34m'\\n'\u001b[0m\u001b[1;33m,\u001b[0m \u001b[0mfile\u001b[0m\u001b[1;33m=\u001b[0m\u001b[1;32mNone\u001b[0m\u001b[1;33m,\u001b[0m \u001b[0mflush\u001b[0m\u001b[1;33m=\u001b[0m\u001b[1;32mFalse\u001b[0m\u001b[1;33m)\u001b[0m\u001b[1;33m\u001b[0m\u001b[1;33m\u001b[0m\u001b[0m\n",
       "\u001b[1;31mDocstring:\u001b[0m\n",
       "Prints the values to a stream, or to sys.stdout by default.\n",
       "\n",
       "sep\n",
       "  string inserted between values, default a space.\n",
       "end\n",
       "  string appended after the last value, default a newline.\n",
       "file\n",
       "  a file-like object (stream); defaults to the current sys.stdout.\n",
       "flush\n",
       "  whether to forcibly flush the stream.\n",
       "\u001b[1;31mType:\u001b[0m      builtin_function_or_method"
      ]
     },
     "metadata": {},
     "output_type": "display_data"
    }
   ],
   "source": [
    "# Textbook Example\n",
    "In [3]: print?"
   ]
  },
  {
   "cell_type": "code",
   "execution_count": 69,
   "id": "96816b8f-dc8a-4721-871b-d4fbaddf404a",
   "metadata": {},
   "outputs": [],
   "source": [
    "# Textbook Example\n",
    "def add_numbers(a, b):\n",
    "    \"\"\"\n",
    "    Add two numbers together\n",
    "\n",
    "    Returns\n",
    "    -------\n",
    "    the_sum : type of arguments\n",
    "    \"\"\"\n",
    "    return a + b"
   ]
  },
  {
   "cell_type": "code",
   "execution_count": 70,
   "id": "032aceca-3fae-4877-afa8-4f62f6c01ab4",
   "metadata": {},
   "outputs": [
    {
     "data": {
      "text/plain": [
       "\u001b[1;31mSignature:\u001b[0m \u001b[0madd_numbers\u001b[0m\u001b[1;33m(\u001b[0m\u001b[0ma\u001b[0m\u001b[1;33m,\u001b[0m \u001b[0mb\u001b[0m\u001b[1;33m)\u001b[0m\u001b[1;33m\u001b[0m\u001b[1;33m\u001b[0m\u001b[0m\n",
       "\u001b[1;31mDocstring:\u001b[0m\n",
       "Add two numbers together\n",
       "\n",
       "Returns\n",
       "-------\n",
       "the_sum : type of arguments\n",
       "\u001b[1;31mFile:\u001b[0m      c:\\users\\nhu ngo\\appdata\\local\\temp\\ipykernel_19592\\332404450.py\n",
       "\u001b[1;31mType:\u001b[0m      function"
      ]
     },
     "metadata": {},
     "output_type": "display_data"
    }
   ],
   "source": [
    "In [6]: add_numbers?"
   ]
  },
  {
   "cell_type": "code",
   "execution_count": 71,
   "id": "153dd12a-5833-410c-8f6c-43e298a96a0d",
   "metadata": {},
   "outputs": [
    {
     "data": {
      "text/plain": [
       "np.__loader__\n",
       "np.load\n",
       "np.loadtxt"
      ]
     },
     "metadata": {},
     "output_type": "display_data"
    }
   ],
   "source": [
    "# Textbook Example\n",
    "In [9]: import numpy as np\n",
    "\n",
    "In [10]: np.*load*?"
   ]
  },
  {
   "cell_type": "markdown",
   "id": "5c1edd73-9252-48ea-aa04-f558fc3d89a8",
   "metadata": {},
   "source": [
    "SECTION 2.3"
   ]
  },
  {
   "cell_type": "code",
   "execution_count": 73,
   "id": "ff48b841-42ff-45dd-84ce-6ff39dfaa5f1",
   "metadata": {},
   "outputs": [
    {
     "name": "stdout",
     "output_type": "stream",
     "text": [
      "Less than pivot: [3, 1, 2, 1]\n",
      "Greater than or equal to pivot: [6, 8, 10]\n"
     ]
    }
   ],
   "source": [
    "# My example array and pivot\n",
    "array = [3, 6, 8, 10, 1, 2, 1]\n",
    "pivot = 5\n",
    "\n",
    "# Lists to hold partitioned values\n",
    "less = []\n",
    "greater = []\n",
    "\n",
    "# Textbook Example \n",
    "for x in array:\n",
    "    if x < pivot:\n",
    "        less.append(x)\n",
    "    else:\n",
    "        greater.append(x)\n",
    "\n",
    "# Output the result\n",
    "print(\"Less than pivot:\", less)\n",
    "print(\"Greater than or equal to pivot:\", greater)"
   ]
  },
  {
   "cell_type": "code",
   "execution_count": 74,
   "id": "d0641fc1-75e0-40cd-9625-194bc1d5459e",
   "metadata": {},
   "outputs": [
    {
     "name": "stdout",
     "output_type": "stream",
     "text": [
      "This is a line with bar in it.\n",
      "bar appears again in this line.\n",
      "\n",
      "No bar here.\n",
      "barbarbar should become barbarbar.\n",
      "Reached this line\n"
     ]
    }
   ],
   "source": [
    "# My Example\n",
    "# Simulating a file with a list of strings\n",
    "file_handle = [\n",
    "    \"This is a line with foo in it.\\n\",\n",
    "    \"foo appears again in this line.\\n\",\n",
    "    \"\\n\",  # This is an empty line\n",
    "    \"No foo here.\\n\",\n",
    "    \"foofoofoo should become barbarbar.\\n\"\n",
    "]\n",
    "\n",
    "# Textbook Example\n",
    "results = []\n",
    "for line in file_handle:\n",
    "    # keep the empty lines for now\n",
    "    # if len(line) == 0:\n",
    "    #   continue\n",
    "    results.append(line.replace(\"foo\", \"bar\"))\n",
    "\n",
    "# Printing the results for my texting\n",
    "for result in results:\n",
    "    print(result, end='')  # Using end='' to avoid adding extra newlines\n",
    "\n",
    "# Textbook Example\n",
    "print(\"Reached this line\")  # Simple status report"
   ]
  },
  {
   "cell_type": "code",
   "execution_count": 75,
   "id": "66e2b405-143b-428b-be5d-4efdd1e20c19",
   "metadata": {},
   "outputs": [
    {
     "data": {
      "text/plain": [
       "[1, 2, 3]"
      ]
     },
     "execution_count": 75,
     "metadata": {},
     "output_type": "execute_result"
    }
   ],
   "source": [
    "# Textbook Example\n",
    "In [8]: a = [1, 2, 3]\n",
    "\n",
    "In [9]: b = a\n",
    "\n",
    "In [10]: b"
   ]
  },
  {
   "cell_type": "code",
   "execution_count": 76,
   "id": "b5b8259d-b3e2-4b77-a7e3-983116909116",
   "metadata": {},
   "outputs": [
    {
     "data": {
      "text/plain": [
       "[1, 2, 3, 4]"
      ]
     },
     "execution_count": 76,
     "metadata": {},
     "output_type": "execute_result"
    }
   ],
   "source": [
    "# Textbook Example\n",
    "In [11]: a.append(4)\n",
    "\n",
    "In [12]: b"
   ]
  },
  {
   "cell_type": "code",
   "execution_count": 77,
   "id": "635e794a-a480-46b4-b678-7b388084bd38",
   "metadata": {},
   "outputs": [],
   "source": [
    "# Textbook Example\n",
    "In [13]: def append_element(some_list, element):\n",
    "    some_list.append(element)"
   ]
  },
  {
   "cell_type": "code",
   "execution_count": 78,
   "id": "4e5a5418-bd76-4797-83b1-d0250ca1cfb8",
   "metadata": {},
   "outputs": [],
   "source": [
    "# Textbook Example\n",
    "In [14]: data = [1, 2, 3]\n",
    "In [15]: append_element(data, 4)\n",
    "\n",
    "In [16]:data"
   ]
  },
  {
   "cell_type": "code",
   "execution_count": 79,
   "id": "f090630d-5f49-482a-b703-9dc8270b0440",
   "metadata": {},
   "outputs": [
    {
     "data": {
      "text/plain": [
       "int"
      ]
     },
     "execution_count": 79,
     "metadata": {},
     "output_type": "execute_result"
    }
   ],
   "source": [
    "In [17]: a = 5\n",
    "In [18]: type(a)"
   ]
  },
  {
   "cell_type": "code",
   "execution_count": 80,
   "id": "fc43c678-e942-4b62-b7d6-c6ec14d246e9",
   "metadata": {},
   "outputs": [
    {
     "data": {
      "text/plain": [
       "str"
      ]
     },
     "execution_count": 80,
     "metadata": {},
     "output_type": "execute_result"
    }
   ],
   "source": [
    "In [19]: a = \"foo\"\n",
    "In [20]: type(a)"
   ]
  },
  {
   "cell_type": "code",
   "execution_count": 81,
   "id": "cca0dbe8-8f66-4894-a6b0-148ef9828e92",
   "metadata": {},
   "outputs": [
    {
     "ename": "TypeError",
     "evalue": "can only concatenate str (not \"int\") to str",
     "output_type": "error",
     "traceback": [
      "\u001b[1;31m---------------------------------------------------------------------------\u001b[0m",
      "\u001b[1;31mTypeError\u001b[0m                                 Traceback (most recent call last)",
      "Cell \u001b[1;32mIn[81], line 1\u001b[0m\n\u001b[1;32m----> 1\u001b[0m \u001b[38;5;124m\"\u001b[39m\u001b[38;5;124m5\u001b[39m\u001b[38;5;124m\"\u001b[39m \u001b[38;5;241m+\u001b[39m \u001b[38;5;241m5\u001b[39m\n",
      "\u001b[1;31mTypeError\u001b[0m: can only concatenate str (not \"int\") to str"
     ]
    }
   ],
   "source": [
    "In [21]: \"5\" + 5"
   ]
  },
  {
   "cell_type": "code",
   "execution_count": 300,
   "id": "e02596f5-d2e4-4796-bbb9-1ce2080c02c7",
   "metadata": {},
   "outputs": [
    {
     "name": "stdout",
     "output_type": "stream",
     "text": [
      "a is <class 'float'>, b is <class 'int'>\n"
     ]
    }
   ],
   "source": [
    "In [22]: a = 4.5\n",
    "In [23]: b = 2\n",
    "In [24]: print(f\"a is {type(a)}, b is {type(b)}\")"
   ]
  },
  {
   "cell_type": "code",
   "execution_count": 302,
   "id": "f70b0276-c5ac-413f-9d8c-a3f16df190d4",
   "metadata": {},
   "outputs": [
    {
     "data": {
      "text/plain": [
       "2.25"
      ]
     },
     "execution_count": 302,
     "metadata": {},
     "output_type": "execute_result"
    }
   ],
   "source": [
    "In [25]: a / b"
   ]
  },
  {
   "cell_type": "code",
   "execution_count": 304,
   "id": "9797883a-f6c9-4d61-b380-632ea3d448cb",
   "metadata": {},
   "outputs": [
    {
     "data": {
      "text/plain": [
       "True"
      ]
     },
     "execution_count": 304,
     "metadata": {},
     "output_type": "execute_result"
    }
   ],
   "source": [
    "In [26]: a = 5\n",
    "In [27]: isinstance(a, int)"
   ]
  },
  {
   "cell_type": "code",
   "execution_count": 306,
   "id": "3213f2e9-2221-40a4-acf1-3b95452225c2",
   "metadata": {},
   "outputs": [
    {
     "data": {
      "text/plain": [
       "True"
      ]
     },
     "execution_count": 306,
     "metadata": {},
     "output_type": "execute_result"
    }
   ],
   "source": [
    "In [28]:a = 5; b = 4.5\n",
    "In [29]: isinstance(a, (int, float))"
   ]
  },
  {
   "cell_type": "code",
   "execution_count": 308,
   "id": "150a7e5c-a0d3-41e9-9136-9ad1cedff697",
   "metadata": {},
   "outputs": [
    {
     "data": {
      "text/plain": [
       "True"
      ]
     },
     "execution_count": 308,
     "metadata": {},
     "output_type": "execute_result"
    }
   ],
   "source": [
    "In [30]: isinstance(b, (int, float))"
   ]
  },
  {
   "cell_type": "code",
   "execution_count": 310,
   "id": "55311e5d-e73b-4a2b-adc6-9b787a8bbefe",
   "metadata": {},
   "outputs": [
    {
     "data": {
      "text/plain": [
       "<function str.split(sep=None, maxsplit=-1)>"
      ]
     },
     "execution_count": 310,
     "metadata": {},
     "output_type": "execute_result"
    }
   ],
   "source": [
    "In [1]: a = \"foo\"\n",
    "In [32]: getattr(a, \"split\")"
   ]
  },
  {
   "cell_type": "code",
   "execution_count": 312,
   "id": "496825e2-c4cd-42c2-8d53-faecd8cbe7d7",
   "metadata": {},
   "outputs": [],
   "source": [
    "In [33]: def isiterable(obj):\n",
    "            try:\n",
    "                iter(obj)\n",
    "                return True\n",
    "            except TypeError: # not iterable\n",
    "                return False"
   ]
  },
  {
   "cell_type": "code",
   "execution_count": 314,
   "id": "85a04182-6ba6-4d18-bd97-a906ae34078e",
   "metadata": {},
   "outputs": [
    {
     "data": {
      "text/plain": [
       "True"
      ]
     },
     "execution_count": 314,
     "metadata": {},
     "output_type": "execute_result"
    }
   ],
   "source": [
    "In [34]: isiterable(\"a string\")"
   ]
  },
  {
   "cell_type": "code",
   "execution_count": 316,
   "id": "a1ec2dce-f3ea-49fe-9570-5e8084f2d6e0",
   "metadata": {},
   "outputs": [
    {
     "data": {
      "text/plain": [
       "True"
      ]
     },
     "execution_count": 316,
     "metadata": {},
     "output_type": "execute_result"
    }
   ],
   "source": [
    "In [35]: isiterable([1, 2, 3])"
   ]
  },
  {
   "cell_type": "code",
   "execution_count": 318,
   "id": "d024ee61-eeee-4c59-810d-88fbf4af61b0",
   "metadata": {},
   "outputs": [
    {
     "data": {
      "text/plain": [
       "False"
      ]
     },
     "execution_count": 318,
     "metadata": {},
     "output_type": "execute_result"
    }
   ],
   "source": [
    "In [36]: isiterable(5)"
   ]
  },
  {
   "cell_type": "code",
   "execution_count": 320,
   "id": "7ff76347-d9e1-4c16-b934-60e4eb9b630d",
   "metadata": {},
   "outputs": [
    {
     "data": {
      "text/plain": [
       "-2"
      ]
     },
     "execution_count": 320,
     "metadata": {},
     "output_type": "execute_result"
    }
   ],
   "source": [
    "In [37]: 5 - 7"
   ]
  },
  {
   "cell_type": "code",
   "execution_count": 322,
   "id": "b6c81e7a-67ee-4cdf-a77c-cb46e5a804b1",
   "metadata": {},
   "outputs": [
    {
     "data": {
      "text/plain": [
       "33.5"
      ]
     },
     "execution_count": 322,
     "metadata": {},
     "output_type": "execute_result"
    }
   ],
   "source": [
    "In [38]: 12 + 21.5"
   ]
  },
  {
   "cell_type": "code",
   "execution_count": 324,
   "id": "919fb5ce-05f5-41d1-851d-d832653a0080",
   "metadata": {},
   "outputs": [
    {
     "data": {
      "text/plain": [
       "False"
      ]
     },
     "execution_count": 324,
     "metadata": {},
     "output_type": "execute_result"
    }
   ],
   "source": [
    "In [39]: 5 <= 2"
   ]
  },
  {
   "cell_type": "code",
   "execution_count": 326,
   "id": "09dabc49-cbff-4696-82f2-8946b5f074e6",
   "metadata": {},
   "outputs": [
    {
     "data": {
      "text/plain": [
       "True"
      ]
     },
     "execution_count": 326,
     "metadata": {},
     "output_type": "execute_result"
    }
   ],
   "source": [
    "In [40]: a = [1, 2, 3]\n",
    "In [41]: b = a\n",
    "In [42]: c = list(a)\n",
    "In [43]: a is b"
   ]
  },
  {
   "cell_type": "code",
   "execution_count": 328,
   "id": "fae284cc-122d-4819-b872-e8e5c520483d",
   "metadata": {},
   "outputs": [
    {
     "data": {
      "text/plain": [
       "True"
      ]
     },
     "execution_count": 328,
     "metadata": {},
     "output_type": "execute_result"
    }
   ],
   "source": [
    "In [44]: a is not c"
   ]
  },
  {
   "cell_type": "code",
   "execution_count": 329,
   "id": "68fb4acc-b3a5-4869-8679-03c64db672ab",
   "metadata": {},
   "outputs": [
    {
     "data": {
      "text/plain": [
       "True"
      ]
     },
     "execution_count": 329,
     "metadata": {},
     "output_type": "execute_result"
    }
   ],
   "source": [
    "In [45]: a == c"
   ]
  },
  {
   "cell_type": "code",
   "execution_count": 332,
   "id": "faed2d21-445c-4462-af14-4c9372c68469",
   "metadata": {},
   "outputs": [
    {
     "data": {
      "text/plain": [
       "True"
      ]
     },
     "execution_count": 332,
     "metadata": {},
     "output_type": "execute_result"
    }
   ],
   "source": [
    "In [46]: a = None\n",
    "In [47]: a is None"
   ]
  },
  {
   "cell_type": "code",
   "execution_count": 333,
   "id": "701e477d-9bfa-48d9-aa82-50cb6e7f7013",
   "metadata": {},
   "outputs": [
    {
     "data": {
      "text/plain": [
       "['foo', 2, (3, 4)]"
      ]
     },
     "execution_count": 333,
     "metadata": {},
     "output_type": "execute_result"
    }
   ],
   "source": [
    "In [48]: a_list = [\"foo\", 2, [4, 5]]\n",
    "In [49]: a_list[2] = (3, 4)\n",
    "In [50]: a_list"
   ]
  },
  {
   "cell_type": "code",
   "execution_count": 336,
   "id": "d737a418-a7d4-4609-a674-7d2aba575e74",
   "metadata": {},
   "outputs": [
    {
     "ename": "TypeError",
     "evalue": "'tuple' object does not support item assignment",
     "output_type": "error",
     "traceback": [
      "\u001b[1;31m---------------------------------------------------------------------------\u001b[0m",
      "\u001b[1;31mTypeError\u001b[0m                                 Traceback (most recent call last)",
      "Cell \u001b[1;32mIn[336], line 2\u001b[0m\n\u001b[0;32m      1\u001b[0m a_tuple \u001b[38;5;241m=\u001b[39m (\u001b[38;5;241m3\u001b[39m, \u001b[38;5;241m5\u001b[39m, (\u001b[38;5;241m4\u001b[39m, \u001b[38;5;241m5\u001b[39m))\n\u001b[1;32m----> 2\u001b[0m a_tuple[\u001b[38;5;241m1\u001b[39m] \u001b[38;5;241m=\u001b[39m \u001b[38;5;124m\"\u001b[39m\u001b[38;5;124mfour\u001b[39m\u001b[38;5;124m\"\u001b[39m\n",
      "\u001b[1;31mTypeError\u001b[0m: 'tuple' object does not support item assignment"
     ]
    }
   ],
   "source": [
    "In [51]: a_tuple = (3, 5, (4, 5))\n",
    "In [52]: a_tuple[1] = \"four\""
   ]
  },
  {
   "cell_type": "code",
   "execution_count": 337,
   "id": "5adc2f63-d2c6-4c4a-a21a-22a6b1bcb8ac",
   "metadata": {},
   "outputs": [
    {
     "data": {
      "text/plain": [
       "103439226"
      ]
     },
     "execution_count": 337,
     "metadata": {},
     "output_type": "execute_result"
    }
   ],
   "source": [
    "In [53]: ival = 17239871\n",
    "In [54]: ival * 6"
   ]
  },
  {
   "cell_type": "code",
   "execution_count": 339,
   "id": "1c8972c8-6836-42fb-b925-a074e6f7a9ec",
   "metadata": {},
   "outputs": [],
   "source": [
    "In [55]: fval = 7.243\n",
    "\n",
    "In [56]: fval2 = 6.78e-5"
   ]
  },
  {
   "cell_type": "code",
   "execution_count": 342,
   "id": "8e9254bb-26e6-4d6e-b9e5-313a82c23299",
   "metadata": {},
   "outputs": [
    {
     "data": {
      "text/plain": [
       "1.5"
      ]
     },
     "execution_count": 342,
     "metadata": {},
     "output_type": "execute_result"
    }
   ],
   "source": [
    "In [57]: 3/2"
   ]
  },
  {
   "cell_type": "code",
   "execution_count": 344,
   "id": "126b3462-a4f9-4268-a6f8-e9d833a6aacc",
   "metadata": {},
   "outputs": [
    {
     "data": {
      "text/plain": [
       "1"
      ]
     },
     "execution_count": 344,
     "metadata": {},
     "output_type": "execute_result"
    }
   ],
   "source": [
    "In [58]: 3//2"
   ]
  },
  {
   "cell_type": "code",
   "execution_count": 346,
   "id": "deebadf9-ca22-44d9-ba22-3c0de84ce5db",
   "metadata": {},
   "outputs": [],
   "source": [
    "a = 'one way of writing a string'\n",
    "b = \"another way\"\n",
    "c = \"\"\"\n",
    "This is a longer string that\n",
    "spans multiple lines\n",
    "\"\"\""
   ]
  },
  {
   "cell_type": "code",
   "execution_count": 348,
   "id": "2fa44564-1e6f-487d-9a02-4f99840b154a",
   "metadata": {},
   "outputs": [
    {
     "data": {
      "text/plain": [
       "3"
      ]
     },
     "execution_count": 348,
     "metadata": {},
     "output_type": "execute_result"
    }
   ],
   "source": [
    "In [60]: c.count(\"\\n\")"
   ]
  },
  {
   "cell_type": "code",
   "execution_count": 350,
   "id": "01f493c1-0988-4324-b005-60e2a986ab7a",
   "metadata": {},
   "outputs": [
    {
     "ename": "TypeError",
     "evalue": "'str' object does not support item assignment",
     "output_type": "error",
     "traceback": [
      "\u001b[1;31m---------------------------------------------------------------------------\u001b[0m",
      "\u001b[1;31mTypeError\u001b[0m                                 Traceback (most recent call last)",
      "Cell \u001b[1;32mIn[350], line 2\u001b[0m\n\u001b[0;32m      1\u001b[0m a \u001b[38;5;241m=\u001b[39m \u001b[38;5;124m\"\u001b[39m\u001b[38;5;124mthis is a string\u001b[39m\u001b[38;5;124m\"\u001b[39m\n\u001b[1;32m----> 2\u001b[0m a[\u001b[38;5;241m10\u001b[39m] \u001b[38;5;241m=\u001b[39m \u001b[38;5;124m\"\u001b[39m\u001b[38;5;124mf\u001b[39m\u001b[38;5;124m\"\u001b[39m\n",
      "\u001b[1;31mTypeError\u001b[0m: 'str' object does not support item assignment"
     ]
    }
   ],
   "source": [
    "In [61]: a = \"this is a string\"\n",
    "In [62]: a[10] = \"f\""
   ]
  },
  {
   "cell_type": "code",
   "execution_count": 351,
   "id": "2d1176f5-bb43-4c93-beff-6dabb6c13434",
   "metadata": {},
   "outputs": [
    {
     "data": {
      "text/plain": [
       "'this is a longer string'"
      ]
     },
     "execution_count": 351,
     "metadata": {},
     "output_type": "execute_result"
    }
   ],
   "source": [
    "In [63]: b = a.replace(\"string\", \"longer string\")\n",
    "In [64]: b"
   ]
  },
  {
   "cell_type": "code",
   "execution_count": 354,
   "id": "15224055-a26e-417c-bc6b-4e39aa7f5cb4",
   "metadata": {},
   "outputs": [
    {
     "data": {
      "text/plain": [
       "'this is a string'"
      ]
     },
     "execution_count": 354,
     "metadata": {},
     "output_type": "execute_result"
    }
   ],
   "source": [
    "In [65]: a"
   ]
  },
  {
   "cell_type": "code",
   "execution_count": 356,
   "id": "3382ac37-22df-4dd2-b97f-8de306e4485f",
   "metadata": {},
   "outputs": [
    {
     "name": "stdout",
     "output_type": "stream",
     "text": [
      "5.6\n"
     ]
    }
   ],
   "source": [
    "In [66]: a = 5.6\n",
    "\n",
    "In [67]: s = str(a)\n",
    "\n",
    "In [68]: print(s)"
   ]
  },
  {
   "cell_type": "code",
   "execution_count": 358,
   "id": "3874e245-7d58-45bc-94ea-8abc6399baf1",
   "metadata": {},
   "outputs": [
    {
     "data": {
      "text/plain": [
       "['p', 'y', 't', 'h', 'o', 'n']"
      ]
     },
     "execution_count": 358,
     "metadata": {},
     "output_type": "execute_result"
    }
   ],
   "source": [
    "In [69]: s = \"python\"\n",
    "In [70]: list(s)"
   ]
  },
  {
   "cell_type": "code",
   "execution_count": 360,
   "id": "81bf5aa1-fe4f-49fd-8567-0a45fe7dbe3e",
   "metadata": {},
   "outputs": [
    {
     "data": {
      "text/plain": [
       "'pyt'"
      ]
     },
     "execution_count": 360,
     "metadata": {},
     "output_type": "execute_result"
    }
   ],
   "source": [
    "In [71]: s[:3]"
   ]
  },
  {
   "cell_type": "code",
   "execution_count": 362,
   "id": "04a1daf1-89e9-4ea7-9bab-0fe850b14944",
   "metadata": {},
   "outputs": [
    {
     "data": {
      "text/plain": [
       "'this\\\\has\\\\no\\\\special\\\\characters'"
      ]
     },
     "execution_count": 362,
     "metadata": {},
     "output_type": "execute_result"
    }
   ],
   "source": [
    "In [74]: s = r\"this\\has\\no\\special\\characters\"\n",
    "\n",
    "In [75]: s"
   ]
  },
  {
   "cell_type": "code",
   "execution_count": 363,
   "id": "eaa85a85-6279-4ae7-8248-ea30ce08bfb0",
   "metadata": {},
   "outputs": [
    {
     "data": {
      "text/plain": [
       "'this is the first half and this is the second half'"
      ]
     },
     "execution_count": 363,
     "metadata": {},
     "output_type": "execute_result"
    }
   ],
   "source": [
    "In [76]: a = \"this is the first half \"\n",
    "\n",
    "In [77]: b = \"and this is the second half\"\n",
    "\n",
    "In [78]: a + b"
   ]
  },
  {
   "cell_type": "code",
   "execution_count": 366,
   "id": "836b3e48-86d4-4083-800d-3d5d52c34988",
   "metadata": {},
   "outputs": [],
   "source": [
    "In [79]: template = \"{0:.2f} {1:s} are worth US${2:d}\""
   ]
  },
  {
   "cell_type": "code",
   "execution_count": 368,
   "id": "f2c39168-bb1c-4f62-ba64-b461be877bff",
   "metadata": {},
   "outputs": [
    {
     "data": {
      "text/plain": [
       "'88.46 Argentine Pesos are worth US$1'"
      ]
     },
     "execution_count": 368,
     "metadata": {},
     "output_type": "execute_result"
    }
   ],
   "source": [
    "In [80]: template.format(88.46, \"Argentine Pesos\", 1)"
   ]
  },
  {
   "cell_type": "code",
   "execution_count": 369,
   "id": "b89a0989-9de4-4591-9fdb-904a3574a275",
   "metadata": {},
   "outputs": [],
   "source": [
    "In [81]: amount = 10\n",
    "\n",
    "In [82]: rate = 88.46\n",
    "\n",
    "In [83]: currency = \"Pesos\"\n",
    "\n",
    "In [84]: result = f\"{amount} {currency} is worth US${amount / rate}\""
   ]
  },
  {
   "cell_type": "code",
   "execution_count": 372,
   "id": "2f5b2750-c7a2-469a-85af-20647fc6d0b1",
   "metadata": {},
   "outputs": [
    {
     "data": {
      "text/plain": [
       "'10 Pesos is worth US$0.11'"
      ]
     },
     "execution_count": 372,
     "metadata": {},
     "output_type": "execute_result"
    }
   ],
   "source": [
    "In [85]: f\"{amount} {currency} is worth US${amount / rate:.2f}\""
   ]
  },
  {
   "cell_type": "code",
   "execution_count": 374,
   "id": "2f1e8cde-238b-4e81-ac5e-7bb2363f8c13",
   "metadata": {},
   "outputs": [
    {
     "data": {
      "text/plain": [
       "'español'"
      ]
     },
     "execution_count": 374,
     "metadata": {},
     "output_type": "execute_result"
    }
   ],
   "source": [
    "In [86]: val = \"español\"\n",
    "\n",
    "In [87]: val"
   ]
  },
  {
   "cell_type": "code",
   "execution_count": 375,
   "id": "277f6427-779a-4893-aa67-2807dbd410cc",
   "metadata": {},
   "outputs": [
    {
     "data": {
      "text/plain": [
       "b'espa\\xc3\\xb1ol'"
      ]
     },
     "execution_count": 375,
     "metadata": {},
     "output_type": "execute_result"
    }
   ],
   "source": [
    "In [88]: val_utf8 = val.encode(\"utf-8\")\n",
    "\n",
    "In [89]: val_utf8"
   ]
  },
  {
   "cell_type": "code",
   "execution_count": 376,
   "id": "eec796ca-ff4d-467a-8e43-7f7f21fa16dd",
   "metadata": {},
   "outputs": [
    {
     "data": {
      "text/plain": [
       "bytes"
      ]
     },
     "execution_count": 376,
     "metadata": {},
     "output_type": "execute_result"
    }
   ],
   "source": [
    "In [90]: type(val_utf8)"
   ]
  },
  {
   "cell_type": "code",
   "execution_count": 379,
   "id": "6d318172-cbc5-4e12-9a10-8ebd7374a6bb",
   "metadata": {},
   "outputs": [
    {
     "data": {
      "text/plain": [
       "True"
      ]
     },
     "execution_count": 379,
     "metadata": {},
     "output_type": "execute_result"
    }
   ],
   "source": [
    "In [95]: True and True"
   ]
  },
  {
   "cell_type": "code",
   "execution_count": 381,
   "id": "00c4793d-8784-4bdb-bb2d-d9ebd6273e87",
   "metadata": {},
   "outputs": [
    {
     "data": {
      "text/plain": [
       "True"
      ]
     },
     "execution_count": 381,
     "metadata": {},
     "output_type": "execute_result"
    }
   ],
   "source": [
    "In [96]: False or True"
   ]
  },
  {
   "cell_type": "code",
   "execution_count": 383,
   "id": "04a7617f-92fe-40ba-969f-2a80455f6040",
   "metadata": {},
   "outputs": [
    {
     "data": {
      "text/plain": [
       "0"
      ]
     },
     "execution_count": 383,
     "metadata": {},
     "output_type": "execute_result"
    }
   ],
   "source": [
    "In [97]: int(False)"
   ]
  },
  {
   "cell_type": "code",
   "execution_count": 386,
   "id": "2f17207a-eb63-4f30-96e0-39900222ddf9",
   "metadata": {},
   "outputs": [
    {
     "data": {
      "text/plain": [
       "1"
      ]
     },
     "execution_count": 386,
     "metadata": {},
     "output_type": "execute_result"
    }
   ],
   "source": [
    "In [98]: int(True)"
   ]
  },
  {
   "cell_type": "code",
   "execution_count": 387,
   "id": "1bc7c6fc-db55-435b-8cb0-40fad5856b99",
   "metadata": {},
   "outputs": [
    {
     "data": {
      "text/plain": [
       "False"
      ]
     },
     "execution_count": 387,
     "metadata": {},
     "output_type": "execute_result"
    }
   ],
   "source": [
    "In [99]: a = True\n",
    "\n",
    "In [100]: b = False\n",
    "\n",
    "In [101]: not a"
   ]
  },
  {
   "cell_type": "code",
   "execution_count": 389,
   "id": "e72e9874-81ec-4169-9ec5-0ff62bd7b31e",
   "metadata": {},
   "outputs": [
    {
     "data": {
      "text/plain": [
       "True"
      ]
     },
     "execution_count": 389,
     "metadata": {},
     "output_type": "execute_result"
    }
   ],
   "source": [
    "In [102]: not b"
   ]
  },
  {
   "cell_type": "code",
   "execution_count": 391,
   "id": "0651db48-4983-4b26-a12c-fce28b00fc5f",
   "metadata": {},
   "outputs": [
    {
     "data": {
      "text/plain": [
       "float"
      ]
     },
     "execution_count": 391,
     "metadata": {},
     "output_type": "execute_result"
    }
   ],
   "source": [
    "In [103]: s = \"3.14159\"\n",
    "\n",
    "In [104]: fval = float(s)\n",
    "\n",
    "In [105]: type(fval)"
   ]
  },
  {
   "cell_type": "code",
   "execution_count": 394,
   "id": "2fdef5b1-2528-4dc9-ac3b-2305ccff032a",
   "metadata": {},
   "outputs": [
    {
     "data": {
      "text/plain": [
       "3"
      ]
     },
     "execution_count": 394,
     "metadata": {},
     "output_type": "execute_result"
    }
   ],
   "source": [
    "In [106]: int(fval)"
   ]
  },
  {
   "cell_type": "code",
   "execution_count": 395,
   "id": "4b834211-48a5-4589-b58a-ed08af0bb6d6",
   "metadata": {},
   "outputs": [
    {
     "data": {
      "text/plain": [
       "True"
      ]
     },
     "execution_count": 395,
     "metadata": {},
     "output_type": "execute_result"
    }
   ],
   "source": [
    "In [107]: bool(fval)"
   ]
  },
  {
   "cell_type": "code",
   "execution_count": 398,
   "id": "e0d44e8f-646f-4565-9861-b0990a4b5106",
   "metadata": {},
   "outputs": [
    {
     "data": {
      "text/plain": [
       "False"
      ]
     },
     "execution_count": 398,
     "metadata": {},
     "output_type": "execute_result"
    }
   ],
   "source": [
    "In [108]: bool(0)"
   ]
  },
  {
   "cell_type": "code",
   "execution_count": 400,
   "id": "0ea8ee17-b505-447d-813f-696c044c5dfb",
   "metadata": {},
   "outputs": [
    {
     "data": {
      "text/plain": [
       "True"
      ]
     },
     "execution_count": 400,
     "metadata": {},
     "output_type": "execute_result"
    }
   ],
   "source": [
    "In [109]: a = None\n",
    "\n",
    "In [110]: a is None"
   ]
  },
  {
   "cell_type": "code",
   "execution_count": 401,
   "id": "87134b9a-6cb8-432d-bc59-a4dc324933d1",
   "metadata": {},
   "outputs": [
    {
     "data": {
      "text/plain": [
       "True"
      ]
     },
     "execution_count": 401,
     "metadata": {},
     "output_type": "execute_result"
    }
   ],
   "source": [
    "In [111]: b = 5\n",
    "\n",
    "In [112]: b is not None"
   ]
  },
  {
   "cell_type": "code",
   "execution_count": 403,
   "id": "ab04c26c-6c85-4fbb-8ab3-9aace8e3c79b",
   "metadata": {},
   "outputs": [],
   "source": [
    "# Textbook Example\n",
    "def add_and_maybe_multiply(a, b, c=None):\n",
    "    result = a + b\n",
    "\n",
    "    if c is not None:\n",
    "        result = result * c\n",
    "\n",
    "    return result"
   ]
  },
  {
   "cell_type": "code",
   "execution_count": 406,
   "id": "25c0f31b-5aaa-47b2-83b8-12609294ab45",
   "metadata": {},
   "outputs": [
    {
     "data": {
      "text/plain": [
       "3"
      ]
     },
     "execution_count": 406,
     "metadata": {},
     "output_type": "execute_result"
    }
   ],
   "source": [
    "# My example\n",
    "add_and_maybe_multiply(1,2,None)"
   ]
  },
  {
   "cell_type": "code",
   "execution_count": 408,
   "id": "122b61a6-ec6f-48cd-95a9-4073e4bb9074",
   "metadata": {},
   "outputs": [
    {
     "data": {
      "text/plain": [
       "29"
      ]
     },
     "execution_count": 408,
     "metadata": {},
     "output_type": "execute_result"
    }
   ],
   "source": [
    "In [113]: from datetime import datetime, date, time\n",
    "\n",
    "In [114]: dt = datetime(2011, 10, 29, 20, 30, 21)\n",
    "\n",
    "In [115]: dt.day"
   ]
  },
  {
   "cell_type": "code",
   "execution_count": 409,
   "id": "e2d90674-355a-48ab-a0c8-3a36419dcb77",
   "metadata": {},
   "outputs": [
    {
     "data": {
      "text/plain": [
       "30"
      ]
     },
     "execution_count": 409,
     "metadata": {},
     "output_type": "execute_result"
    }
   ],
   "source": [
    "In [116]: dt.minute"
   ]
  },
  {
   "cell_type": "code",
   "execution_count": 412,
   "id": "71959fcf-b4a7-4404-ac98-49fd9537d684",
   "metadata": {},
   "outputs": [
    {
     "data": {
      "text/plain": [
       "datetime.date(2011, 10, 29)"
      ]
     },
     "execution_count": 412,
     "metadata": {},
     "output_type": "execute_result"
    }
   ],
   "source": [
    "In [117]: dt.date()"
   ]
  },
  {
   "cell_type": "code",
   "execution_count": 413,
   "id": "167e09da-6bbf-4cbc-a17b-ebaa8ff4d4e0",
   "metadata": {},
   "outputs": [
    {
     "data": {
      "text/plain": [
       "datetime.time(20, 30, 21)"
      ]
     },
     "execution_count": 413,
     "metadata": {},
     "output_type": "execute_result"
    }
   ],
   "source": [
    "In [118]: dt.time()"
   ]
  },
  {
   "cell_type": "code",
   "execution_count": 415,
   "id": "3e0c8911-5dd7-4bdc-a3bb-49bbf3064cd4",
   "metadata": {},
   "outputs": [
    {
     "data": {
      "text/plain": [
       "'2011-10-29 20:30'"
      ]
     },
     "execution_count": 415,
     "metadata": {},
     "output_type": "execute_result"
    }
   ],
   "source": [
    "In [119]: dt.strftime(\"%Y-%m-%d %H:%M\")"
   ]
  },
  {
   "cell_type": "code",
   "execution_count": 417,
   "id": "640af084-f22f-4533-b604-e302caec9958",
   "metadata": {},
   "outputs": [
    {
     "data": {
      "text/plain": [
       "datetime.datetime(2009, 10, 31, 0, 0)"
      ]
     },
     "execution_count": 417,
     "metadata": {},
     "output_type": "execute_result"
    }
   ],
   "source": [
    "In [120]: datetime.strptime(\"20091031\", \"%Y%m%d\")"
   ]
  },
  {
   "cell_type": "code",
   "execution_count": 419,
   "id": "95ac368b-7d47-44f9-a0f8-8ca865ce3915",
   "metadata": {},
   "outputs": [
    {
     "data": {
      "text/plain": [
       "datetime.datetime(2011, 10, 29, 20, 0)"
      ]
     },
     "execution_count": 419,
     "metadata": {},
     "output_type": "execute_result"
    }
   ],
   "source": [
    "In [121]: dt_hour = dt.replace(minute=0, second=0)\n",
    "\n",
    "In [122]: dt_hour"
   ]
  },
  {
   "cell_type": "code",
   "execution_count": 421,
   "id": "c4c57a87-f28b-417c-acf0-26221f799ebf",
   "metadata": {},
   "outputs": [
    {
     "data": {
      "text/plain": [
       "datetime.datetime(2011, 10, 29, 20, 30, 21)"
      ]
     },
     "execution_count": 421,
     "metadata": {},
     "output_type": "execute_result"
    }
   ],
   "source": [
    "In [123]: dt"
   ]
  },
  {
   "cell_type": "code",
   "execution_count": 423,
   "id": "4668420a-f8e8-4e0f-be7f-b087a9a684f5",
   "metadata": {},
   "outputs": [
    {
     "data": {
      "text/plain": [
       "datetime.timedelta(days=17, seconds=7179)"
      ]
     },
     "execution_count": 423,
     "metadata": {},
     "output_type": "execute_result"
    }
   ],
   "source": [
    "In [124]: dt2 = datetime(2011, 11, 15, 22, 30)\n",
    "\n",
    "In [125]: delta = dt2 - dt\n",
    "\n",
    "In [126]: delta"
   ]
  },
  {
   "cell_type": "code",
   "execution_count": 425,
   "id": "f56c7679-5a7a-4e70-8b48-d2d01fe39bf9",
   "metadata": {},
   "outputs": [
    {
     "data": {
      "text/plain": [
       "datetime.timedelta"
      ]
     },
     "execution_count": 425,
     "metadata": {},
     "output_type": "execute_result"
    }
   ],
   "source": [
    "In [127]: type(delta)"
   ]
  },
  {
   "cell_type": "code",
   "execution_count": 427,
   "id": "0f6c3f72-8d1c-43f3-8d10-efc73ad49240",
   "metadata": {},
   "outputs": [
    {
     "data": {
      "text/plain": [
       "datetime.datetime(2011, 10, 29, 20, 30, 21)"
      ]
     },
     "execution_count": 427,
     "metadata": {},
     "output_type": "execute_result"
    }
   ],
   "source": [
    "In [128]: dt"
   ]
  },
  {
   "cell_type": "code",
   "execution_count": 429,
   "id": "12648c79-5717-4f7c-9f0e-d5d33f173287",
   "metadata": {},
   "outputs": [
    {
     "data": {
      "text/plain": [
       "datetime.datetime(2011, 11, 15, 22, 30)"
      ]
     },
     "execution_count": 429,
     "metadata": {},
     "output_type": "execute_result"
    }
   ],
   "source": [
    "In [129]: dt + delta"
   ]
  },
  {
   "cell_type": "code",
   "execution_count": 431,
   "id": "968b51a2-185d-4729-92db-d7bd75383212",
   "metadata": {},
   "outputs": [
    {
     "name": "stdout",
     "output_type": "stream",
     "text": [
      "It's negative\n"
     ]
    }
   ],
   "source": [
    "# Textbook Example\n",
    "x = -5\n",
    "if x < 0:\n",
    "    print(\"It's negative\")"
   ]
  },
  {
   "cell_type": "code",
   "execution_count": 434,
   "id": "021729ac-9229-4196-aa60-afa19ab97ecc",
   "metadata": {},
   "outputs": [
    {
     "name": "stdout",
     "output_type": "stream",
     "text": [
      "It's negative\n"
     ]
    }
   ],
   "source": [
    "# Textbook Example\n",
    "if x < 0:\n",
    "    print(\"It's negative\")\n",
    "elif x == 0:\n",
    "    print(\"Equal to zero\")\n",
    "elif 0 < x < 5:\n",
    "    print(\"Positive but smaller than 5\")\n",
    "else:\n",
    "    print(\"Positive and larger than or equal to 5\")"
   ]
  },
  {
   "cell_type": "code",
   "execution_count": 435,
   "id": "cbd2a721-6749-4b1d-a9dd-0cf6e102d7bc",
   "metadata": {},
   "outputs": [
    {
     "name": "stdout",
     "output_type": "stream",
     "text": [
      "Make it\n"
     ]
    }
   ],
   "source": [
    "In [130]: a = 5; b = 7\n",
    "\n",
    "In [131]: c = 8; d = 4\n",
    "\n",
    "In [132]: if a < b or c > d:\n",
    "            print(\"Make it\")"
   ]
  },
  {
   "cell_type": "code",
   "execution_count": 438,
   "id": "2ade9311-2a29-4a9d-a9af-978499507ff6",
   "metadata": {},
   "outputs": [
    {
     "data": {
      "text/plain": [
       "True"
      ]
     },
     "execution_count": 438,
     "metadata": {},
     "output_type": "execute_result"
    }
   ],
   "source": [
    "In [133]: 4 > 3 > 2 > 1"
   ]
  },
  {
   "cell_type": "code",
   "execution_count": 440,
   "id": "eda64aef-5a3c-4926-8caf-dab18ce922bb",
   "metadata": {},
   "outputs": [
    {
     "name": "stdout",
     "output_type": "stream",
     "text": [
      "12\n"
     ]
    }
   ],
   "source": [
    "# Textbook Example\n",
    "sequence = [1, 2, None, 4, None, 5]\n",
    "total = 0\n",
    "for value in sequence:\n",
    "    if value is None:\n",
    "        continue\n",
    "    total += value\n",
    "\n",
    "# My Example to test\n",
    "print(total)"
   ]
  },
  {
   "cell_type": "code",
   "execution_count": 442,
   "id": "45ac46a4-e8cb-4dc3-a26f-f8fd52daf55a",
   "metadata": {},
   "outputs": [
    {
     "name": "stdout",
     "output_type": "stream",
     "text": [
      "13\n"
     ]
    }
   ],
   "source": [
    "# Textbook Example\n",
    "sequence = [1, 2, 0, 4, 6, 5, 2, 1]\n",
    "total_until_5 = 0\n",
    "for value in sequence:\n",
    "    if value == 5:\n",
    "        break\n",
    "    total_until_5 += value\n",
    "\n",
    "# My Example to test\n",
    "print(total_until_5)"
   ]
  },
  {
   "cell_type": "code",
   "execution_count": 444,
   "id": "42f0a40a-81c9-4c25-9606-2a4becd24823",
   "metadata": {},
   "outputs": [
    {
     "name": "stdout",
     "output_type": "stream",
     "text": [
      "(0, 0)\n",
      "(1, 0)\n",
      "(1, 1)\n",
      "(2, 0)\n",
      "(2, 1)\n",
      "(2, 2)\n",
      "(3, 0)\n",
      "(3, 1)\n",
      "(3, 2)\n",
      "(3, 3)\n"
     ]
    }
   ],
   "source": [
    "In [134]: for i in range(4):\n",
    "            for j in range(4):\n",
    "                if j > i:\n",
    "                    break\n",
    "                print((i, j))"
   ]
  },
  {
   "cell_type": "code",
   "execution_count": 445,
   "id": "0a621711-b71c-4c35-b0a4-016c03a6f181",
   "metadata": {},
   "outputs": [
    {
     "name": "stdout",
     "output_type": "stream",
     "text": [
      "negative!\n"
     ]
    }
   ],
   "source": [
    "if x < 0:\n",
    "    print(\"negative!\")\n",
    "elif x == 0:\n",
    "    # TODO: put something smart here\n",
    "    print(\"The number is 0!\")\n",
    "    pass\n",
    "else:\n",
    "    print(\"positive!\")"
   ]
  },
  {
   "cell_type": "code",
   "execution_count": 447,
   "id": "f2cf22ce-8bcd-47e5-ab94-4f8af85ea239",
   "metadata": {},
   "outputs": [
    {
     "data": {
      "text/plain": [
       "range(0, 10)"
      ]
     },
     "execution_count": 447,
     "metadata": {},
     "output_type": "execute_result"
    }
   ],
   "source": [
    "In [135]: range(10)"
   ]
  },
  {
   "cell_type": "code",
   "execution_count": 450,
   "id": "eea2798d-69c8-4e59-be5d-33614d114096",
   "metadata": {},
   "outputs": [
    {
     "data": {
      "text/plain": [
       "[0, 1, 2, 3, 4, 5, 6, 7, 8, 9]"
      ]
     },
     "execution_count": 450,
     "metadata": {},
     "output_type": "execute_result"
    }
   ],
   "source": [
    "In [136]: list(range(10))"
   ]
  },
  {
   "cell_type": "code",
   "execution_count": 452,
   "id": "2e6a9a9b-0025-4d54-a89f-41e9a0ce9827",
   "metadata": {},
   "outputs": [
    {
     "data": {
      "text/plain": [
       "[0, 2, 4, 6, 8, 10, 12, 14, 16, 18]"
      ]
     },
     "execution_count": 452,
     "metadata": {},
     "output_type": "execute_result"
    }
   ],
   "source": [
    "In [137]: list(range(0, 20, 2))"
   ]
  },
  {
   "cell_type": "code",
   "execution_count": 454,
   "id": "1f90408a-e9c7-4861-a76d-06c35c73ce5c",
   "metadata": {},
   "outputs": [
    {
     "data": {
      "text/plain": [
       "[5, 4, 3, 2, 1]"
      ]
     },
     "execution_count": 454,
     "metadata": {},
     "output_type": "execute_result"
    }
   ],
   "source": [
    "In [138]: list(range(5, 0, -1))"
   ]
  },
  {
   "cell_type": "code",
   "execution_count": 455,
   "id": "445a421b-cc85-4c35-8ee4-8372d818ee9e",
   "metadata": {},
   "outputs": [
    {
     "name": "stdout",
     "output_type": "stream",
     "text": [
      "element 0: 1\n",
      "element 1: 2\n",
      "element 2: 3\n",
      "element 3: 4\n"
     ]
    }
   ],
   "source": [
    "In [139]: seq = [1, 2, 3, 4]\n",
    "\n",
    "In [140]: for i in range(len(seq)):\n",
    "              print(f\"element {i}: {seq[i]}\")"
   ]
  },
  {
   "cell_type": "code",
   "execution_count": 458,
   "id": "1140c899-8041-4060-b120-80a3cc490acd",
   "metadata": {},
   "outputs": [
    {
     "name": "stdout",
     "output_type": "stream",
     "text": [
      "2333316668\n"
     ]
    }
   ],
   "source": [
    "In [141]: total = 0\n",
    "\n",
    "In [142]: for i in range(100_000):\n",
    "              # % is the modulo operator\n",
    "             if i % 3 == 0 or i % 5 == 0:\n",
    "                 total += i\n",
    "\n",
    "In [143]: print(total)"
   ]
  },
  {
   "cell_type": "markdown",
   "id": "5c103502-2ef6-4c15-a98d-b27be0205577",
   "metadata": {},
   "source": [
    "CHAP 3"
   ]
  },
  {
   "cell_type": "markdown",
   "id": "3609d024-96b0-4626-91fe-7fc6bb474235",
   "metadata": {},
   "source": [
    "SECTION 3.1"
   ]
  },
  {
   "cell_type": "code",
   "execution_count": 462,
   "id": "2079abe0-32c9-4bb2-8d14-69b3b4e5c299",
   "metadata": {},
   "outputs": [
    {
     "data": {
      "text/plain": [
       "(4, 5, 6)"
      ]
     },
     "execution_count": 462,
     "metadata": {},
     "output_type": "execute_result"
    }
   ],
   "source": [
    "In [2]: tup = (4, 5, 6)\n",
    "\n",
    "In [3]: tup"
   ]
  },
  {
   "cell_type": "code",
   "execution_count": 464,
   "id": "3d2a116f-fb16-4933-a401-9fceef07a8ec",
   "metadata": {},
   "outputs": [
    {
     "data": {
      "text/plain": [
       "(4, 5, 6)"
      ]
     },
     "execution_count": 464,
     "metadata": {},
     "output_type": "execute_result"
    }
   ],
   "source": [
    "In [4]: tup = 4, 5, 6\n",
    "\n",
    "In [5]: tup"
   ]
  },
  {
   "cell_type": "code",
   "execution_count": 466,
   "id": "22cac64c-19fe-4869-8101-eeee9f98cb1c",
   "metadata": {},
   "outputs": [
    {
     "data": {
      "text/plain": [
       "(4, 0, 2)"
      ]
     },
     "execution_count": 466,
     "metadata": {},
     "output_type": "execute_result"
    }
   ],
   "source": [
    "In [6]: tuple([4, 0, 2])"
   ]
  },
  {
   "cell_type": "code",
   "execution_count": 468,
   "id": "63b0ec44-a4b4-44a8-84a3-12076bebb047",
   "metadata": {},
   "outputs": [
    {
     "data": {
      "text/plain": [
       "('s', 't', 'r', 'i', 'n', 'g')"
      ]
     },
     "execution_count": 468,
     "metadata": {},
     "output_type": "execute_result"
    }
   ],
   "source": [
    "In [7]: tup = tuple('string')\n",
    "\n",
    "In [8]: tup"
   ]
  },
  {
   "cell_type": "code",
   "execution_count": 470,
   "id": "0cbde0ca-f925-4c9d-afe3-2a996612bc82",
   "metadata": {},
   "outputs": [
    {
     "data": {
      "text/plain": [
       "'s'"
      ]
     },
     "execution_count": 470,
     "metadata": {},
     "output_type": "execute_result"
    }
   ],
   "source": [
    "In [9]: tup[0]"
   ]
  },
  {
   "cell_type": "code",
   "execution_count": 472,
   "id": "d1dd6552-f3c6-4f0c-8df2-1102c7690bb6",
   "metadata": {},
   "outputs": [
    {
     "data": {
      "text/plain": [
       "((4, 5, 6), (7, 8))"
      ]
     },
     "execution_count": 472,
     "metadata": {},
     "output_type": "execute_result"
    }
   ],
   "source": [
    "In [10]: nested_tup = (4, 5, 6), (7, 8)\n",
    "\n",
    "In [11]: nested_tup"
   ]
  },
  {
   "cell_type": "code",
   "execution_count": 474,
   "id": "dcae43b0-5b2f-4040-89c0-c6ac98456099",
   "metadata": {},
   "outputs": [
    {
     "data": {
      "text/plain": [
       "(4, 5, 6)"
      ]
     },
     "execution_count": 474,
     "metadata": {},
     "output_type": "execute_result"
    }
   ],
   "source": [
    "In [12]: nested_tup[0]"
   ]
  },
  {
   "cell_type": "code",
   "execution_count": 476,
   "id": "0bc00914-9945-4fa0-af8e-0712d8faddd0",
   "metadata": {},
   "outputs": [
    {
     "data": {
      "text/plain": [
       "(7, 8)"
      ]
     },
     "execution_count": 476,
     "metadata": {},
     "output_type": "execute_result"
    }
   ],
   "source": [
    "In [13]: nested_tup[1]"
   ]
  },
  {
   "cell_type": "code",
   "execution_count": 478,
   "id": "7e956458-0187-46ec-80d2-c68d6c33508b",
   "metadata": {},
   "outputs": [
    {
     "ename": "TypeError",
     "evalue": "'tuple' object does not support item assignment",
     "output_type": "error",
     "traceback": [
      "\u001b[1;31m---------------------------------------------------------------------------\u001b[0m",
      "\u001b[1;31mTypeError\u001b[0m                                 Traceback (most recent call last)",
      "Cell \u001b[1;32mIn[478], line 3\u001b[0m\n\u001b[0;32m      1\u001b[0m tup \u001b[38;5;241m=\u001b[39m \u001b[38;5;28mtuple\u001b[39m([\u001b[38;5;124m'\u001b[39m\u001b[38;5;124mfoo\u001b[39m\u001b[38;5;124m'\u001b[39m, [\u001b[38;5;241m1\u001b[39m, \u001b[38;5;241m2\u001b[39m], \u001b[38;5;28;01mTrue\u001b[39;00m])\n\u001b[1;32m----> 3\u001b[0m tup[\u001b[38;5;241m2\u001b[39m] \u001b[38;5;241m=\u001b[39m \u001b[38;5;28;01mFalse\u001b[39;00m\n",
      "\u001b[1;31mTypeError\u001b[0m: 'tuple' object does not support item assignment"
     ]
    }
   ],
   "source": [
    "In [14]: tup = tuple(['foo', [1, 2], True])\n",
    "\n",
    "In [15]: tup[2] = False"
   ]
  },
  {
   "cell_type": "code",
   "execution_count": 479,
   "id": "a9a20dc5-9391-4711-b27e-950a9ff76598",
   "metadata": {},
   "outputs": [
    {
     "data": {
      "text/plain": [
       "('foo', [1, 2, 3], True)"
      ]
     },
     "execution_count": 479,
     "metadata": {},
     "output_type": "execute_result"
    }
   ],
   "source": [
    "In [16]: tup[1].append(3)\n",
    "\n",
    "In [17]: tup"
   ]
  },
  {
   "cell_type": "code",
   "execution_count": 482,
   "id": "91c8246f-b34c-498c-89dc-d3eb28bac092",
   "metadata": {},
   "outputs": [
    {
     "data": {
      "text/plain": [
       "(4, None, 'foo', 6, 0, 'bar')"
      ]
     },
     "execution_count": 482,
     "metadata": {},
     "output_type": "execute_result"
    }
   ],
   "source": [
    "In [18]: (4, None, 'foo') + (6, 0) + ('bar',)"
   ]
  },
  {
   "cell_type": "code",
   "execution_count": 484,
   "id": "bd109306-44a6-4786-8947-0e0b0a3b4a33",
   "metadata": {},
   "outputs": [
    {
     "data": {
      "text/plain": [
       "('foo', 'bar', 'foo', 'bar', 'foo', 'bar', 'foo', 'bar')"
      ]
     },
     "execution_count": 484,
     "metadata": {},
     "output_type": "execute_result"
    }
   ],
   "source": [
    "In [19]: ('foo', 'bar') * 4"
   ]
  },
  {
   "cell_type": "code",
   "execution_count": 486,
   "id": "b888993f-89d9-4aac-abab-4c515f6c7dcf",
   "metadata": {},
   "outputs": [
    {
     "data": {
      "text/plain": [
       "5"
      ]
     },
     "execution_count": 486,
     "metadata": {},
     "output_type": "execute_result"
    }
   ],
   "source": [
    "In [20]: tup = (4, 5, 6)\n",
    "\n",
    "In [21]: a, b, c = tup\n",
    "\n",
    "In [22]: b"
   ]
  },
  {
   "cell_type": "code",
   "execution_count": 488,
   "id": "aa027795-d5c3-43db-a2e3-9e6de3971051",
   "metadata": {},
   "outputs": [
    {
     "data": {
      "text/plain": [
       "7"
      ]
     },
     "execution_count": 488,
     "metadata": {},
     "output_type": "execute_result"
    }
   ],
   "source": [
    "In [23]: tup = 4, 5, (6, 7)\n",
    "\n",
    "In [24]: a, b, (c, d) = tup\n",
    "\n",
    "In [25]: d"
   ]
  },
  {
   "cell_type": "code",
   "execution_count": 490,
   "id": "8d7ef731-8845-40d9-aa69-4b69c98a268a",
   "metadata": {},
   "outputs": [
    {
     "name": "stdout",
     "output_type": "stream",
     "text": [
      "4\n",
      "5\n"
     ]
    }
   ],
   "source": [
    "# My test\n",
    "print(a)\n",
    "print(b)"
   ]
  },
  {
   "cell_type": "code",
   "execution_count": 491,
   "id": "dc45d19f-55c8-4d72-98a0-b936f4911a7d",
   "metadata": {},
   "outputs": [],
   "source": [
    "tmp = a\n",
    "a = b\n",
    "b = tmp"
   ]
  },
  {
   "cell_type": "code",
   "execution_count": 494,
   "id": "fa0301db-4556-4ed8-b0eb-b9a81534ad76",
   "metadata": {},
   "outputs": [
    {
     "name": "stdout",
     "output_type": "stream",
     "text": [
      "4\n",
      "5\n",
      "4\n"
     ]
    }
   ],
   "source": [
    "# My test\n",
    "print(tmp)\n",
    "print(a)\n",
    "print(b)"
   ]
  },
  {
   "cell_type": "code",
   "execution_count": 496,
   "id": "5bc3341c-be43-44fd-b393-2fcdd8fe275e",
   "metadata": {},
   "outputs": [
    {
     "data": {
      "text/plain": [
       "1"
      ]
     },
     "execution_count": 496,
     "metadata": {},
     "output_type": "execute_result"
    }
   ],
   "source": [
    "In [26]: a, b = 1, 2\n",
    "\n",
    "In [27]: a"
   ]
  },
  {
   "cell_type": "code",
   "execution_count": 498,
   "id": "51ff6f32-fb09-4505-b5ed-5f8390d5cfbf",
   "metadata": {},
   "outputs": [
    {
     "data": {
      "text/plain": [
       "2"
      ]
     },
     "execution_count": 498,
     "metadata": {},
     "output_type": "execute_result"
    }
   ],
   "source": [
    "In [28]: b"
   ]
  },
  {
   "cell_type": "code",
   "execution_count": 500,
   "id": "6417c80d-9479-4add-a8a6-bd5e87cdcf7c",
   "metadata": {},
   "outputs": [
    {
     "data": {
      "text/plain": [
       "2"
      ]
     },
     "execution_count": 500,
     "metadata": {},
     "output_type": "execute_result"
    }
   ],
   "source": [
    "In [29]: b, a = a, b\n",
    "\n",
    "In [30]: a"
   ]
  },
  {
   "cell_type": "code",
   "execution_count": 501,
   "id": "65e4b8d3-4070-4440-aa75-f379b6b1215f",
   "metadata": {},
   "outputs": [
    {
     "data": {
      "text/plain": [
       "1"
      ]
     },
     "execution_count": 501,
     "metadata": {},
     "output_type": "execute_result"
    }
   ],
   "source": [
    "In [31]: b"
   ]
  },
  {
   "cell_type": "code",
   "execution_count": 503,
   "id": "932d07d7-63c1-49fa-a055-8dedf88c41ee",
   "metadata": {},
   "outputs": [
    {
     "name": "stdout",
     "output_type": "stream",
     "text": [
      "a=1, b=2, c=3\n",
      "a=4, b=5, c=6\n",
      "a=7, b=8, c=9\n"
     ]
    }
   ],
   "source": [
    "In [32]: seq = [(1, 2, 3), (4, 5, 6), (7, 8, 9)]\n",
    "\n",
    "In [33]: for a, b, c in seq:\n",
    "   ....:     print(f'a={a}, b={b}, c={c}')"
   ]
  },
  {
   "cell_type": "code",
   "execution_count": 506,
   "id": "b3a57d76-d2ac-42f6-b355-f62043cca2f7",
   "metadata": {},
   "outputs": [
    {
     "data": {
      "text/plain": [
       "1"
      ]
     },
     "execution_count": 506,
     "metadata": {},
     "output_type": "execute_result"
    }
   ],
   "source": [
    "In [34]: values = 1, 2, 3, 4, 5\n",
    "\n",
    "In [35]: a, b, *rest = values\n",
    "\n",
    "In [36]: a"
   ]
  },
  {
   "cell_type": "code",
   "execution_count": 508,
   "id": "79a367fb-b545-4fb1-b45d-a489a8de598f",
   "metadata": {},
   "outputs": [
    {
     "data": {
      "text/plain": [
       "2"
      ]
     },
     "execution_count": 508,
     "metadata": {},
     "output_type": "execute_result"
    }
   ],
   "source": [
    "In [37]: b"
   ]
  },
  {
   "cell_type": "code",
   "execution_count": 509,
   "id": "5d39ff66-7b73-4245-bd66-2648a1c477d4",
   "metadata": {},
   "outputs": [
    {
     "data": {
      "text/plain": [
       "[3, 4, 5]"
      ]
     },
     "execution_count": 509,
     "metadata": {},
     "output_type": "execute_result"
    }
   ],
   "source": [
    "In [38]: rest"
   ]
  },
  {
   "cell_type": "code",
   "execution_count": 511,
   "id": "4f2e62cc-49a2-46f5-8d02-fa5c17105593",
   "metadata": {},
   "outputs": [],
   "source": [
    "In [39]: a, b, *_ = values"
   ]
  },
  {
   "cell_type": "code",
   "execution_count": 513,
   "id": "561ad0d3-76a4-4cf4-99b6-3ac4c5772c53",
   "metadata": {},
   "outputs": [
    {
     "data": {
      "text/plain": [
       "4"
      ]
     },
     "execution_count": 513,
     "metadata": {},
     "output_type": "execute_result"
    }
   ],
   "source": [
    "In [40]: a = (1, 2, 2, 2, 3, 4, 2)\n",
    "\n",
    "In [41]: a.count(2)"
   ]
  },
  {
   "cell_type": "code",
   "execution_count": 516,
   "id": "a5c7db89-ea93-4a4a-b28b-42427f6a838f",
   "metadata": {},
   "outputs": [
    {
     "data": {
      "text/plain": [
       "['foo', 'bar', 'baz']"
      ]
     },
     "execution_count": 516,
     "metadata": {},
     "output_type": "execute_result"
    }
   ],
   "source": [
    "In [42]: a_list = [2, 3, 7, None]\n",
    "\n",
    "In [43]: tup = (\"foo\", \"bar\", \"baz\")\n",
    "\n",
    "In [44]: b_list = list(tup)\n",
    "\n",
    "In [45]: b_list"
   ]
  },
  {
   "cell_type": "code",
   "execution_count": 518,
   "id": "2f68ba12-3fb0-4d42-b6ee-de424252124d",
   "metadata": {},
   "outputs": [
    {
     "data": {
      "text/plain": [
       "['foo', 'peekaboo', 'baz']"
      ]
     },
     "execution_count": 518,
     "metadata": {},
     "output_type": "execute_result"
    }
   ],
   "source": [
    "In [46]: b_list[1] = \"peekaboo\"\n",
    "\n",
    "In [47]: b_list"
   ]
  },
  {
   "cell_type": "code",
   "execution_count": 520,
   "id": "a1e32c6f-3c2f-4737-9631-63726c7a6376",
   "metadata": {},
   "outputs": [
    {
     "data": {
      "text/plain": [
       "range(0, 10)"
      ]
     },
     "execution_count": 520,
     "metadata": {},
     "output_type": "execute_result"
    }
   ],
   "source": [
    "In [48]: gen = range(10)\n",
    "\n",
    "In [49]: gen"
   ]
  },
  {
   "cell_type": "code",
   "execution_count": 521,
   "id": "3a3315ce-0698-46a7-a928-784fde36e465",
   "metadata": {},
   "outputs": [
    {
     "data": {
      "text/plain": [
       "[0, 1, 2, 3, 4, 5, 6, 7, 8, 9]"
      ]
     },
     "execution_count": 521,
     "metadata": {},
     "output_type": "execute_result"
    }
   ],
   "source": [
    "In [50]: list(gen)"
   ]
  },
  {
   "cell_type": "code",
   "execution_count": 524,
   "id": "69590153-cddb-476b-a7f2-aa5716fc0f3e",
   "metadata": {},
   "outputs": [
    {
     "data": {
      "text/plain": [
       "['foo', 'peekaboo', 'baz', 'dwarf']"
      ]
     },
     "execution_count": 524,
     "metadata": {},
     "output_type": "execute_result"
    }
   ],
   "source": [
    "In [51]: b_list.append(\"dwarf\")\n",
    "\n",
    "In [52]: b_list"
   ]
  },
  {
   "cell_type": "code",
   "execution_count": 525,
   "id": "dd526d27-990c-4df0-bbc4-58ebc3e366f7",
   "metadata": {},
   "outputs": [
    {
     "data": {
      "text/plain": [
       "['foo', 'red', 'peekaboo', 'baz', 'dwarf']"
      ]
     },
     "execution_count": 525,
     "metadata": {},
     "output_type": "execute_result"
    }
   ],
   "source": [
    "In [53]: b_list.insert(1, \"red\")\n",
    "\n",
    "In [54]: b_list"
   ]
  },
  {
   "cell_type": "code",
   "execution_count": 527,
   "id": "ee27f9c5-503c-471b-8be0-3ca0c9d611e3",
   "metadata": {},
   "outputs": [
    {
     "data": {
      "text/plain": [
       "'peekaboo'"
      ]
     },
     "execution_count": 527,
     "metadata": {},
     "output_type": "execute_result"
    }
   ],
   "source": [
    "In [55]: b_list.pop(2)"
   ]
  },
  {
   "cell_type": "code",
   "execution_count": 529,
   "id": "287a6069-1c1e-451e-bcf2-91c4b0c0a93e",
   "metadata": {},
   "outputs": [
    {
     "data": {
      "text/plain": [
       "['foo', 'red', 'baz', 'dwarf']"
      ]
     },
     "execution_count": 529,
     "metadata": {},
     "output_type": "execute_result"
    }
   ],
   "source": [
    "In [56]: b_list"
   ]
  },
  {
   "cell_type": "code",
   "execution_count": 531,
   "id": "7148c0a4-323f-4ca1-ba08-f8ce648a36b2",
   "metadata": {},
   "outputs": [
    {
     "data": {
      "text/plain": [
       "['foo', 'red', 'baz', 'dwarf', 'foo']"
      ]
     },
     "execution_count": 531,
     "metadata": {},
     "output_type": "execute_result"
    }
   ],
   "source": [
    "In [57]: b_list.append(\"foo\")\n",
    "\n",
    "In [58]: b_list"
   ]
  },
  {
   "cell_type": "code",
   "execution_count": 533,
   "id": "cdc8d3e9-9555-4a98-baac-75fde4bc5f31",
   "metadata": {},
   "outputs": [
    {
     "data": {
      "text/plain": [
       "['red', 'baz', 'dwarf', 'foo']"
      ]
     },
     "execution_count": 533,
     "metadata": {},
     "output_type": "execute_result"
    }
   ],
   "source": [
    "In [59]: b_list.remove(\"foo\")\n",
    "\n",
    "In [60]: b_list"
   ]
  },
  {
   "cell_type": "code",
   "execution_count": 536,
   "id": "00698551-abc8-444f-8bf9-d8a21a2cb5a4",
   "metadata": {},
   "outputs": [
    {
     "data": {
      "text/plain": [
       "True"
      ]
     },
     "execution_count": 536,
     "metadata": {},
     "output_type": "execute_result"
    }
   ],
   "source": [
    "In [61]: \"dwarf\" in b_list"
   ]
  },
  {
   "cell_type": "code",
   "execution_count": 538,
   "id": "a723e130-7f98-4ad7-a80f-e57ce7e088a9",
   "metadata": {},
   "outputs": [
    {
     "data": {
      "text/plain": [
       "False"
      ]
     },
     "execution_count": 538,
     "metadata": {},
     "output_type": "execute_result"
    }
   ],
   "source": [
    "In [62]: \"dwarf\" not in b_list"
   ]
  },
  {
   "cell_type": "code",
   "execution_count": 540,
   "id": "d48b703c-4e7f-4778-b116-8ce1e89b8826",
   "metadata": {},
   "outputs": [
    {
     "data": {
      "text/plain": [
       "[4, None, 'foo', 7, 8, (2, 3)]"
      ]
     },
     "execution_count": 540,
     "metadata": {},
     "output_type": "execute_result"
    }
   ],
   "source": [
    "In [63]: [4, None, \"foo\"] + [7, 8, (2, 3)]"
   ]
  },
  {
   "cell_type": "code",
   "execution_count": 541,
   "id": "6167051f-9798-4a94-b192-8ad223ed45b9",
   "metadata": {},
   "outputs": [
    {
     "data": {
      "text/plain": [
       "[4, None, 'foo', 7, 8, (2, 3)]"
      ]
     },
     "execution_count": 541,
     "metadata": {},
     "output_type": "execute_result"
    }
   ],
   "source": [
    "In [64]: x = [4, None, \"foo\"]\n",
    "\n",
    "In [65]: x.extend([7, 8, (2, 3)])\n",
    "\n",
    "In [66]: x"
   ]
  },
  {
   "cell_type": "code",
   "execution_count": 544,
   "id": "059dfc18-41e6-43cd-a7cb-cd321c4a774f",
   "metadata": {},
   "outputs": [
    {
     "ename": "TypeError",
     "evalue": "'int' object is not iterable",
     "output_type": "error",
     "traceback": [
      "\u001b[1;31m---------------------------------------------------------------------------\u001b[0m",
      "\u001b[1;31mTypeError\u001b[0m                                 Traceback (most recent call last)",
      "Cell \u001b[1;32mIn[544], line 7\u001b[0m\n\u001b[0;32m      5\u001b[0m everything \u001b[38;5;241m=\u001b[39m []\n\u001b[0;32m      6\u001b[0m \u001b[38;5;28;01mfor\u001b[39;00m chunk \u001b[38;5;129;01min\u001b[39;00m list_of_lists:\n\u001b[1;32m----> 7\u001b[0m     everything\u001b[38;5;241m.\u001b[39mextend(chunk)\n",
      "\u001b[1;31mTypeError\u001b[0m: 'int' object is not iterable"
     ]
    }
   ],
   "source": [
    "# My Example\n",
    "list_of_lists = [1, 2, 3, 4, 5, 6, 7]\n",
    "\n",
    "# Textbook Example\n",
    "everything = []\n",
    "for chunk in list_of_lists:\n",
    "    everything.extend(chunk)"
   ]
  },
  {
   "cell_type": "code",
   "execution_count": 545,
   "id": "62ed2db9-202b-4c58-b922-9e795ede1475",
   "metadata": {},
   "outputs": [
    {
     "name": "stdout",
     "output_type": "stream",
     "text": [
      "[1, 2, 3, 4, 5, 6, 7]\n"
     ]
    }
   ],
   "source": [
    "# My Example\n",
    "list_of_lists = [[1], [2], [3], [4], [5], [6], [7]]\n",
    "\n",
    "# Textbook Example\n",
    "everything = []\n",
    "for chunk in list_of_lists:\n",
    "    everything.extend(chunk)\n",
    "\n",
    "print(everything)"
   ]
  },
  {
   "cell_type": "code",
   "execution_count": 546,
   "id": "efb04e76-e465-4f7d-b451-8476a24356d6",
   "metadata": {},
   "outputs": [
    {
     "data": {
      "text/plain": [
       "[1, 2, 3, 5, 7]"
      ]
     },
     "execution_count": 546,
     "metadata": {},
     "output_type": "execute_result"
    }
   ],
   "source": [
    "In [67]: a = [7, 2, 5, 1, 3]\n",
    "\n",
    "In [68]: a.sort()\n",
    "\n",
    "In [69]: a"
   ]
  },
  {
   "cell_type": "code",
   "execution_count": 547,
   "id": "544090b7-194e-4496-b70a-f1c398ee8eb5",
   "metadata": {},
   "outputs": [
    {
     "data": {
      "text/plain": [
       "['He', 'saw', 'six', 'small', 'foxes']"
      ]
     },
     "execution_count": 547,
     "metadata": {},
     "output_type": "execute_result"
    }
   ],
   "source": [
    "In [70]: b = [\"saw\", \"small\", \"He\", \"foxes\", \"six\"]\n",
    "\n",
    "In [71]: b.sort(key=len)\n",
    "\n",
    "In [72]: b"
   ]
  },
  {
   "cell_type": "code",
   "execution_count": 551,
   "id": "f79655b5-cfc0-4be2-9c3c-107e85e4b0ac",
   "metadata": {},
   "outputs": [
    {
     "data": {
      "text/plain": [
       "[2, 3, 7, 5]"
      ]
     },
     "execution_count": 551,
     "metadata": {},
     "output_type": "execute_result"
    }
   ],
   "source": [
    "In [73]: seq = [7, 2, 3, 7, 5, 6, 0, 1]\n",
    "\n",
    "In [74]: seq[1:5]"
   ]
  },
  {
   "cell_type": "code",
   "execution_count": 553,
   "id": "bbdbc512-3eff-42df-8f9d-b4f5ac5cc3dd",
   "metadata": {},
   "outputs": [
    {
     "data": {
      "text/plain": [
       "[7, 2, 3, 6, 3, 6, 0, 1]"
      ]
     },
     "execution_count": 553,
     "metadata": {},
     "output_type": "execute_result"
    }
   ],
   "source": [
    "In [75]: seq[3:5] = [6, 3]\n",
    "\n",
    "In [76]: seq"
   ]
  },
  {
   "cell_type": "code",
   "execution_count": 555,
   "id": "e69922ec-5ea1-4f41-af41-c0c72a654652",
   "metadata": {},
   "outputs": [
    {
     "data": {
      "text/plain": [
       "[7, 2, 3, 6, 3]"
      ]
     },
     "execution_count": 555,
     "metadata": {},
     "output_type": "execute_result"
    }
   ],
   "source": [
    "In [77]: seq[:5]"
   ]
  },
  {
   "cell_type": "code",
   "execution_count": 557,
   "id": "3cea43cf-56a4-4b62-bc12-f4e97b4e0cbf",
   "metadata": {},
   "outputs": [
    {
     "data": {
      "text/plain": [
       "[3, 6, 0, 1]"
      ]
     },
     "execution_count": 557,
     "metadata": {},
     "output_type": "execute_result"
    }
   ],
   "source": [
    "In [79]: seq[-4:]"
   ]
  },
  {
   "cell_type": "code",
   "execution_count": 560,
   "id": "4be0a6b6-1aa2-46f0-8eca-981b55293fb2",
   "metadata": {},
   "outputs": [
    {
     "data": {
      "text/plain": [
       "[3, 6, 3, 6]"
      ]
     },
     "execution_count": 560,
     "metadata": {},
     "output_type": "execute_result"
    }
   ],
   "source": [
    "In [80]: seq[-6:-2]"
   ]
  },
  {
   "cell_type": "code",
   "execution_count": 562,
   "id": "9abac1bf-8362-45c9-812e-6c0c3507c6d8",
   "metadata": {},
   "outputs": [
    {
     "data": {
      "text/plain": [
       "[7, 3, 3, 0]"
      ]
     },
     "execution_count": 562,
     "metadata": {},
     "output_type": "execute_result"
    }
   ],
   "source": [
    "In [81]: seq[::2]"
   ]
  },
  {
   "cell_type": "code",
   "execution_count": 564,
   "id": "bafe2cd7-1d33-4848-aa40-9c8d3e0e2126",
   "metadata": {},
   "outputs": [
    {
     "data": {
      "text/plain": [
       "[1, 0, 6, 3, 6, 3, 2, 7]"
      ]
     },
     "execution_count": 564,
     "metadata": {},
     "output_type": "execute_result"
    }
   ],
   "source": [
    "In [82]: seq[::-1]"
   ]
  },
  {
   "cell_type": "code",
   "execution_count": 566,
   "id": "80b7d841-056e-454a-a51b-d5a85b246294",
   "metadata": {},
   "outputs": [
    {
     "data": {
      "text/plain": [
       "{'a': 'some value', 'b': [1, 2, 3, 4]}"
      ]
     },
     "execution_count": 566,
     "metadata": {},
     "output_type": "execute_result"
    }
   ],
   "source": [
    "In [83]: empty_dict = {}\n",
    "\n",
    "In [84]: d1 = {\"a\": \"some value\", \"b\": [1, 2, 3, 4]}\n",
    "\n",
    "In [85]: d1"
   ]
  },
  {
   "cell_type": "code",
   "execution_count": 568,
   "id": "e98afc83-8703-4b39-9f32-527ed9f58c01",
   "metadata": {},
   "outputs": [
    {
     "data": {
      "text/plain": [
       "{'a': 'some value', 'b': [1, 2, 3, 4], 7: 'an integer'}"
      ]
     },
     "execution_count": 568,
     "metadata": {},
     "output_type": "execute_result"
    }
   ],
   "source": [
    "In [86]: d1[7] = \"an integer\"\n",
    "\n",
    "In [87]: d1"
   ]
  },
  {
   "cell_type": "code",
   "execution_count": 570,
   "id": "1453d35a-1b6f-4802-b808-7ebf96575fdd",
   "metadata": {},
   "outputs": [
    {
     "data": {
      "text/plain": [
       "[1, 2, 3, 4]"
      ]
     },
     "execution_count": 570,
     "metadata": {},
     "output_type": "execute_result"
    }
   ],
   "source": [
    "In [88]: d1[\"b\"]"
   ]
  },
  {
   "cell_type": "code",
   "execution_count": 572,
   "id": "f125e1a0-e11a-474f-90d2-aafdb58aa7a7",
   "metadata": {},
   "outputs": [
    {
     "data": {
      "text/plain": [
       "True"
      ]
     },
     "execution_count": 572,
     "metadata": {},
     "output_type": "execute_result"
    }
   ],
   "source": [
    "In [89]: \"b\" in d1"
   ]
  },
  {
   "cell_type": "code",
   "execution_count": 574,
   "id": "4c24de98-74f4-4d5a-8723-e08d56d387f7",
   "metadata": {},
   "outputs": [
    {
     "data": {
      "text/plain": [
       "{'a': 'some value', 'b': [1, 2, 3, 4], 7: 'an integer', 5: 'some value'}"
      ]
     },
     "execution_count": 574,
     "metadata": {},
     "output_type": "execute_result"
    }
   ],
   "source": [
    "In [90]: d1[5] = \"some value\"\n",
    "\n",
    "In [91]: d1"
   ]
  },
  {
   "cell_type": "code",
   "execution_count": 576,
   "id": "a027e96f-ea83-4419-8770-962fc77e08b1",
   "metadata": {},
   "outputs": [
    {
     "data": {
      "text/plain": [
       "{'a': 'some value',\n",
       " 'b': [1, 2, 3, 4],\n",
       " 7: 'an integer',\n",
       " 5: 'some value',\n",
       " 'dummy': 'another value'}"
      ]
     },
     "execution_count": 576,
     "metadata": {},
     "output_type": "execute_result"
    }
   ],
   "source": [
    "In [92]: d1[\"dummy\"] = \"another value\"\n",
    "\n",
    "In [93]: d1"
   ]
  },
  {
   "cell_type": "code",
   "execution_count": 578,
   "id": "79e6300b-163a-435d-9d05-6e22154b876e",
   "metadata": {},
   "outputs": [
    {
     "data": {
      "text/plain": [
       "{'a': 'some value',\n",
       " 'b': [1, 2, 3, 4],\n",
       " 7: 'an integer',\n",
       " 'dummy': 'another value'}"
      ]
     },
     "execution_count": 578,
     "metadata": {},
     "output_type": "execute_result"
    }
   ],
   "source": [
    "In [94]: del d1[5]\n",
    "\n",
    "In [95]: d1"
   ]
  },
  {
   "cell_type": "code",
   "execution_count": 579,
   "id": "8c374bef-b1e3-4718-8b6b-909049a3222b",
   "metadata": {},
   "outputs": [
    {
     "data": {
      "text/plain": [
       "'another value'"
      ]
     },
     "execution_count": 579,
     "metadata": {},
     "output_type": "execute_result"
    }
   ],
   "source": [
    "In [96]: ret = d1.pop(\"dummy\")\n",
    "\n",
    "In [97]: ret"
   ]
  },
  {
   "cell_type": "code",
   "execution_count": 581,
   "id": "06cf4a3a-a47b-4b77-ae02-c928e2a63027",
   "metadata": {},
   "outputs": [
    {
     "data": {
      "text/plain": [
       "{'a': 'some value', 'b': [1, 2, 3, 4], 7: 'an integer'}"
      ]
     },
     "execution_count": 581,
     "metadata": {},
     "output_type": "execute_result"
    }
   ],
   "source": [
    "In [98]: d1"
   ]
  },
  {
   "cell_type": "code",
   "execution_count": 583,
   "id": "5617f005-d7cf-4d55-a1ca-0034e39f24f5",
   "metadata": {},
   "outputs": [
    {
     "data": {
      "text/plain": [
       "['a', 'b', 7]"
      ]
     },
     "execution_count": 583,
     "metadata": {},
     "output_type": "execute_result"
    }
   ],
   "source": [
    "In [99]: list(d1.keys())"
   ]
  },
  {
   "cell_type": "code",
   "execution_count": 584,
   "id": "4940d868-859f-4fa6-a715-b95825e4868b",
   "metadata": {},
   "outputs": [
    {
     "data": {
      "text/plain": [
       "['some value', [1, 2, 3, 4], 'an integer']"
      ]
     },
     "execution_count": 584,
     "metadata": {},
     "output_type": "execute_result"
    }
   ],
   "source": [
    "In [100]: list(d1.values())"
   ]
  },
  {
   "cell_type": "code",
   "execution_count": 588,
   "id": "94c4afa2-4dbf-4940-8cff-d14f5a48b11f",
   "metadata": {},
   "outputs": [
    {
     "data": {
      "text/plain": [
       "[('a', 'some value'), ('b', [1, 2, 3, 4]), (7, 'an integer')]"
      ]
     },
     "execution_count": 588,
     "metadata": {},
     "output_type": "execute_result"
    }
   ],
   "source": [
    "In [101]: list(d1.items())"
   ]
  },
  {
   "cell_type": "code",
   "execution_count": 589,
   "id": "59f241b7-abc6-481f-ae9e-4e44aa11d4b6",
   "metadata": {},
   "outputs": [
    {
     "data": {
      "text/plain": [
       "{'a': 'some value', 'b': 'foo', 7: 'an integer', 'c': 12}"
      ]
     },
     "execution_count": 589,
     "metadata": {},
     "output_type": "execute_result"
    }
   ],
   "source": [
    "In [102]: d1.update({\"b\": \"foo\", \"c\": 12})\n",
    "\n",
    "In [103]: d1"
   ]
  },
  {
   "cell_type": "code",
   "execution_count": 590,
   "id": "9f03e974-7e1a-49cd-8cc9-d6b5e8b8ac59",
   "metadata": {},
   "outputs": [
    {
     "name": "stdout",
     "output_type": "stream",
     "text": [
      "{'a': 1, 'b': 2, 'c': 3, 'd': 4}\n"
     ]
    }
   ],
   "source": [
    "# Example key and value lists\n",
    "key_list = ['a', 'b', 'c', 'd']\n",
    "value_list = [1, 2, 3, 4]\n",
    "\n",
    "mapping = {}\n",
    "for key, value in zip(key_list, value_list):\n",
    "    mapping[key] = value\n",
    "\n",
    "# Print the resulting dictionary\n",
    "print(mapping)"
   ]
  },
  {
   "cell_type": "code",
   "execution_count": 592,
   "id": "35803773-72f4-4e8a-8b9d-a89411019f68",
   "metadata": {},
   "outputs": [
    {
     "data": {
      "text/plain": [
       "<zip at 0x225ffda2cc0>"
      ]
     },
     "execution_count": 592,
     "metadata": {},
     "output_type": "execute_result"
    }
   ],
   "source": [
    "In [104]: tuples = zip(range(5), reversed(range(5)))\n",
    "\n",
    "In [105]: tuples"
   ]
  },
  {
   "cell_type": "code",
   "execution_count": 594,
   "id": "f619a21e-5e30-4d82-996b-8cea44993487",
   "metadata": {},
   "outputs": [
    {
     "data": {
      "text/plain": [
       "{0: 4, 1: 3, 2: 2, 3: 1, 4: 0}"
      ]
     },
     "execution_count": 594,
     "metadata": {},
     "output_type": "execute_result"
    }
   ],
   "source": [
    "In [106]: mapping = dict(tuples)\n",
    "\n",
    "In [107]: mapping"
   ]
  },
  {
   "cell_type": "code",
   "execution_count": 595,
   "id": "b220e066-5328-469f-8fff-786e79c0f33f",
   "metadata": {},
   "outputs": [
    {
     "name": "stdout",
     "output_type": "stream",
     "text": [
      "The value for key 'd' is: 0\n"
     ]
    }
   ],
   "source": [
    "# Example dictionary\n",
    "some_dict = {'a': 1, 'b': 2, 'c': 3}\n",
    "\n",
    "# Key to check\n",
    "key = 'd'\n",
    "\n",
    "# Default value if key is not found\n",
    "default_value = 0\n",
    "\n",
    "# Textbook Example\n",
    "if key in some_dict:\n",
    "    value = some_dict[key]\n",
    "else:\n",
    "    value = default_value\n",
    "\n",
    "# Print the result\n",
    "print(f\"The value for key '{key}' is: {value}\")"
   ]
  },
  {
   "cell_type": "code",
   "execution_count": 597,
   "id": "683fbf13-a174-4d3f-9b81-8643c78a2adf",
   "metadata": {},
   "outputs": [
    {
     "data": {
      "text/plain": [
       "0"
      ]
     },
     "execution_count": 597,
     "metadata": {},
     "output_type": "execute_result"
    }
   ],
   "source": [
    "value = some_dict.get(key, default_value)\n",
    "value"
   ]
  },
  {
   "cell_type": "code",
   "execution_count": 600,
   "id": "751b9575-dbea-4f3c-8ae7-2c43d73f1539",
   "metadata": {},
   "outputs": [
    {
     "data": {
      "text/plain": [
       "{'a': ['apple', 'atom'], 'b': ['bat', 'bar', 'book']}"
      ]
     },
     "execution_count": 600,
     "metadata": {},
     "output_type": "execute_result"
    }
   ],
   "source": [
    "In [108]: words = [\"apple\", \"bat\", \"bar\", \"atom\", \"book\"]\n",
    "\n",
    "In [109]: by_letter = {}\n",
    "\n",
    "In [110]: for word in words:\n",
    "   .....:     letter = word[0]\n",
    "   .....:     if letter not in by_letter:\n",
    "   .....:         by_letter[letter] = [word]\n",
    "   .....:     else:\n",
    "   .....:         by_letter[letter].append(word)\n",
    "\n",
    "In [111]: by_letter"
   ]
  },
  {
   "cell_type": "code",
   "execution_count": 603,
   "id": "7b60b17a-1e4d-4cea-aa09-6bbcd82117d0",
   "metadata": {},
   "outputs": [
    {
     "data": {
      "text/plain": [
       "{'a': ['apple', 'atom'], 'b': ['bat', 'bar', 'book']}"
      ]
     },
     "execution_count": 603,
     "metadata": {},
     "output_type": "execute_result"
    }
   ],
   "source": [
    "In [112]: by_letter = {}\n",
    "\n",
    "In [113]: for word in words:\n",
    "   .....:     letter = word[0]\n",
    "   .....:     by_letter.setdefault(letter, []).append(word)\n",
    "   .....:\n",
    "\n",
    "In [114]: by_letter"
   ]
  },
  {
   "cell_type": "code",
   "execution_count": 605,
   "id": "a76cd6da-1829-48cb-8007-655c4a29598c",
   "metadata": {},
   "outputs": [
    {
     "name": "stdout",
     "output_type": "stream",
     "text": [
      "defaultdict(<class 'list'>, {'a': ['apple', 'atom'], 'b': ['bat', 'bar', 'book']})\n"
     ]
    }
   ],
   "source": [
    "In [115]: from collections import defaultdict\n",
    "\n",
    "In [116]: by_letter = defaultdict(list)\n",
    "\n",
    "In [117]: for word in words:\n",
    "   .....:     by_letter[word[0]].append(word)\n",
    "\n",
    "# My test\n",
    "print(by_letter)"
   ]
  },
  {
   "cell_type": "code",
   "execution_count": 607,
   "id": "1f96f972-f64a-4314-b3d7-721abf7c252f",
   "metadata": {},
   "outputs": [
    {
     "data": {
      "text/plain": [
       "-4119100319806951836"
      ]
     },
     "execution_count": 607,
     "metadata": {},
     "output_type": "execute_result"
    }
   ],
   "source": [
    "In [118]: hash(\"string\")"
   ]
  },
  {
   "cell_type": "code",
   "execution_count": 609,
   "id": "5e71ea31-9392-469b-b6ff-040e873be19a",
   "metadata": {},
   "outputs": [
    {
     "data": {
      "text/plain": [
       "-9209053662355515447"
      ]
     },
     "execution_count": 609,
     "metadata": {},
     "output_type": "execute_result"
    }
   ],
   "source": [
    "In [119]: hash((1, 2, (2, 3)))"
   ]
  },
  {
   "cell_type": "code",
   "execution_count": 612,
   "id": "1e50d32a-70c2-4e8c-b030-352008dd65dd",
   "metadata": {},
   "outputs": [
    {
     "ename": "TypeError",
     "evalue": "unhashable type: 'list'",
     "output_type": "error",
     "traceback": [
      "\u001b[1;31m---------------------------------------------------------------------------\u001b[0m",
      "\u001b[1;31mTypeError\u001b[0m                                 Traceback (most recent call last)",
      "Cell \u001b[1;32mIn[612], line 1\u001b[0m\n\u001b[1;32m----> 1\u001b[0m \u001b[38;5;28mhash\u001b[39m((\u001b[38;5;241m1\u001b[39m, \u001b[38;5;241m2\u001b[39m, [\u001b[38;5;241m2\u001b[39m, \u001b[38;5;241m3\u001b[39m]))\n",
      "\u001b[1;31mTypeError\u001b[0m: unhashable type: 'list'"
     ]
    }
   ],
   "source": [
    "In [120]: hash((1, 2, [2, 3])) # fails because lists are mutable"
   ]
  },
  {
   "cell_type": "code",
   "execution_count": 614,
   "id": "f3407988-da01-471d-bf59-9e605a482c92",
   "metadata": {},
   "outputs": [
    {
     "data": {
      "text/plain": [
       "{(1, 2, 3): 5}"
      ]
     },
     "execution_count": 614,
     "metadata": {},
     "output_type": "execute_result"
    }
   ],
   "source": [
    "In [121]: d = {}\n",
    "\n",
    "In [122]: d[tuple([1, 2, 3])] = 5\n",
    "\n",
    "In [123]: d"
   ]
  },
  {
   "cell_type": "code",
   "execution_count": 616,
   "id": "eef49993-7d6b-492d-ad30-13db3af984d1",
   "metadata": {},
   "outputs": [
    {
     "data": {
      "text/plain": [
       "{1, 2, 3}"
      ]
     },
     "execution_count": 616,
     "metadata": {},
     "output_type": "execute_result"
    }
   ],
   "source": [
    "In [124]: set([2, 2, 2, 1, 3, 3])"
   ]
  },
  {
   "cell_type": "code",
   "execution_count": 618,
   "id": "d376ced3-c65b-4bd6-a23f-f798b5834cb9",
   "metadata": {},
   "outputs": [
    {
     "data": {
      "text/plain": [
       "{1, 2, 3}"
      ]
     },
     "execution_count": 618,
     "metadata": {},
     "output_type": "execute_result"
    }
   ],
   "source": [
    "In [125]: {2, 2, 2, 1, 3, 3}"
   ]
  },
  {
   "cell_type": "code",
   "execution_count": 620,
   "id": "3c01ada4-07db-4f5f-a611-a4f688438f57",
   "metadata": {},
   "outputs": [],
   "source": [
    "In [126]: a = {1, 2, 3, 4, 5}\n",
    "\n",
    "In [127]: b = {3, 4, 5, 6, 7, 8}"
   ]
  },
  {
   "cell_type": "code",
   "execution_count": 622,
   "id": "247460e4-ff9f-421b-b59b-032a74a1e9df",
   "metadata": {},
   "outputs": [
    {
     "data": {
      "text/plain": [
       "{1, 2, 3, 4, 5, 6, 7, 8}"
      ]
     },
     "execution_count": 622,
     "metadata": {},
     "output_type": "execute_result"
    }
   ],
   "source": [
    "In [128]: a.union(b)"
   ]
  },
  {
   "cell_type": "code",
   "execution_count": 624,
   "id": "f3f366ff-e277-488c-bd86-27b754b80adc",
   "metadata": {},
   "outputs": [
    {
     "data": {
      "text/plain": [
       "{1, 2, 3, 4, 5, 6, 7, 8}"
      ]
     },
     "execution_count": 624,
     "metadata": {},
     "output_type": "execute_result"
    }
   ],
   "source": [
    "In [129]: a | b"
   ]
  },
  {
   "cell_type": "code",
   "execution_count": 626,
   "id": "23b9aa28-1829-4c37-b8f3-03d05fb40799",
   "metadata": {},
   "outputs": [
    {
     "data": {
      "text/plain": [
       "{3, 4, 5}"
      ]
     },
     "execution_count": 626,
     "metadata": {},
     "output_type": "execute_result"
    }
   ],
   "source": [
    "In [130]: a.intersection(b)"
   ]
  },
  {
   "cell_type": "code",
   "execution_count": 628,
   "id": "d22d67fe-b4c8-4e2b-a265-4ffc636d4969",
   "metadata": {},
   "outputs": [
    {
     "data": {
      "text/plain": [
       "{3, 4, 5}"
      ]
     },
     "execution_count": 628,
     "metadata": {},
     "output_type": "execute_result"
    }
   ],
   "source": [
    "In [131]: a & b"
   ]
  },
  {
   "cell_type": "code",
   "execution_count": 630,
   "id": "b8275937-dfc4-4e6e-ac09-8f55f930f53c",
   "metadata": {},
   "outputs": [
    {
     "data": {
      "text/plain": [
       "{1, 2, 3, 4, 5, 6, 7, 8}"
      ]
     },
     "execution_count": 630,
     "metadata": {},
     "output_type": "execute_result"
    }
   ],
   "source": [
    "In [132]: c = a.copy()\n",
    "\n",
    "In [133]: c |= b\n",
    "\n",
    "In [134]: c"
   ]
  },
  {
   "cell_type": "code",
   "execution_count": 632,
   "id": "9c706049-d542-4b07-89ca-a0a0f1e302e6",
   "metadata": {},
   "outputs": [
    {
     "data": {
      "text/plain": [
       "{3, 4, 5}"
      ]
     },
     "execution_count": 632,
     "metadata": {},
     "output_type": "execute_result"
    }
   ],
   "source": [
    "In [135]: d = a.copy()\n",
    "\n",
    "In [136]: d &= b\n",
    "\n",
    "In [137]: d"
   ]
  },
  {
   "cell_type": "code",
   "execution_count": 634,
   "id": "e1e4b0e2-032d-468c-b0f9-a13696ef5bb9",
   "metadata": {},
   "outputs": [
    {
     "data": {
      "text/plain": [
       "{(1, 2, 3, 4)}"
      ]
     },
     "execution_count": 634,
     "metadata": {},
     "output_type": "execute_result"
    }
   ],
   "source": [
    "In [138]: my_data = [1, 2, 3, 4]\n",
    "\n",
    "In [139]: my_set = {tuple(my_data)}\n",
    "\n",
    "In [140]: my_set"
   ]
  },
  {
   "cell_type": "code",
   "execution_count": 636,
   "id": "3709c14f-a166-4c08-b8bc-a72e93e85a2d",
   "metadata": {},
   "outputs": [
    {
     "data": {
      "text/plain": [
       "True"
      ]
     },
     "execution_count": 636,
     "metadata": {},
     "output_type": "execute_result"
    }
   ],
   "source": [
    "In [141]: a_set = {1, 2, 3, 4, 5}\n",
    "\n",
    "In [142]: {1, 2, 3}.issubset(a_set)"
   ]
  },
  {
   "cell_type": "code",
   "execution_count": 637,
   "id": "fa3514d3-261b-46e0-aeda-e4ac4011ff9f",
   "metadata": {},
   "outputs": [
    {
     "data": {
      "text/plain": [
       "True"
      ]
     },
     "execution_count": 637,
     "metadata": {},
     "output_type": "execute_result"
    }
   ],
   "source": [
    "In [143]: a_set.issuperset({1, 2, 3})"
   ]
  },
  {
   "cell_type": "code",
   "execution_count": 640,
   "id": "d5543c61-7506-43fa-afa5-d25c4ffe1865",
   "metadata": {},
   "outputs": [
    {
     "data": {
      "text/plain": [
       "True"
      ]
     },
     "execution_count": 640,
     "metadata": {},
     "output_type": "execute_result"
    }
   ],
   "source": [
    "In [144]: {1, 2, 3} == {3, 2, 1}"
   ]
  },
  {
   "cell_type": "code",
   "execution_count": 642,
   "id": "c8359820-ce93-4341-a9ef-310ac80452c2",
   "metadata": {},
   "outputs": [
    {
     "name": "stdout",
     "output_type": "stream",
     "text": [
      "Index: 0, Value: apple\n",
      "Index: 1, Value: banana\n",
      "Index: 2, Value: cherry\n"
     ]
    }
   ],
   "source": [
    "# Example collection\n",
    "collection = ['apple', 'banana', 'cherry']\n",
    "\n",
    "# Initialize index\n",
    "index = 0\n",
    "\n",
    "# Textbook Example\n",
    "for value in collection:\n",
    "    # Do something with value\n",
    "    print(f\"Index: {index}, Value: {value}\")\n",
    "    \n",
    "    # Increment index\n",
    "    index += 1\n"
   ]
  },
  {
   "cell_type": "code",
   "execution_count": 644,
   "id": "5b7560c3-0b21-4e13-a8d3-f1e31ff7bb5b",
   "metadata": {},
   "outputs": [
    {
     "name": "stdout",
     "output_type": "stream",
     "text": [
      "Index: 0, Value: apple\n",
      "Index: 1, Value: banana\n",
      "Index: 2, Value: cherry\n"
     ]
    }
   ],
   "source": [
    "# Example Textbook\n",
    "for index, value in enumerate(collection):\n",
    "    # Do something with value\n",
    "    print(f\"Index: {index}, Value: {value}\")"
   ]
  },
  {
   "cell_type": "code",
   "execution_count": 646,
   "id": "7cd62c8f-103b-40f6-8371-780f4e20c4f0",
   "metadata": {},
   "outputs": [
    {
     "data": {
      "text/plain": [
       "[0, 1, 2, 2, 3, 6, 7]"
      ]
     },
     "execution_count": 646,
     "metadata": {},
     "output_type": "execute_result"
    }
   ],
   "source": [
    "In [145]: sorted([7, 1, 2, 6, 0, 3, 2])"
   ]
  },
  {
   "cell_type": "code",
   "execution_count": 648,
   "id": "546e5772-a247-4aab-87f8-0da58de48d83",
   "metadata": {},
   "outputs": [
    {
     "data": {
      "text/plain": [
       "[' ', 'a', 'c', 'e', 'e', 'h', 'o', 'r', 'r', 's']"
      ]
     },
     "execution_count": 648,
     "metadata": {},
     "output_type": "execute_result"
    }
   ],
   "source": [
    "In [146]: sorted(\"horse race\")"
   ]
  },
  {
   "cell_type": "code",
   "execution_count": 650,
   "id": "ce64f9eb-cead-4db4-978b-503fdd468743",
   "metadata": {},
   "outputs": [
    {
     "data": {
      "text/plain": [
       "[('foo', 'one'), ('bar', 'two'), ('baz', 'three')]"
      ]
     },
     "execution_count": 650,
     "metadata": {},
     "output_type": "execute_result"
    }
   ],
   "source": [
    "In [147]: seq1 = [\"foo\", \"bar\", \"baz\"]\n",
    "\n",
    "In [148]: seq2 = [\"one\", \"two\", \"three\"]\n",
    "\n",
    "In [149]: zipped = zip(seq1, seq2)\n",
    "\n",
    "In [150]: list(zipped)\n"
   ]
  },
  {
   "cell_type": "code",
   "execution_count": 652,
   "id": "1bc827b4-108c-40fa-94b3-a73b87f4783d",
   "metadata": {},
   "outputs": [
    {
     "data": {
      "text/plain": [
       "[('foo', 'one', False), ('bar', 'two', True)]"
      ]
     },
     "execution_count": 652,
     "metadata": {},
     "output_type": "execute_result"
    }
   ],
   "source": [
    "In [151]: seq3 = [False, True]\n",
    "\n",
    "In [152]: list(zip(seq1, seq2, seq3))"
   ]
  },
  {
   "cell_type": "code",
   "execution_count": 654,
   "id": "3f572a7f-c383-4baf-9416-351722db5a8e",
   "metadata": {},
   "outputs": [
    {
     "name": "stdout",
     "output_type": "stream",
     "text": [
      "0: foo, one\n",
      "1: bar, two\n",
      "2: baz, three\n"
     ]
    }
   ],
   "source": [
    "In [153]: for index, (a, b) in enumerate(zip(seq1, seq2)):\n",
    "   .....:     print(f\"{index}: {a}, {b}\")"
   ]
  },
  {
   "cell_type": "code",
   "execution_count": 656,
   "id": "6354192f-c932-4aff-b985-a4f60fc15244",
   "metadata": {},
   "outputs": [
    {
     "data": {
      "text/plain": [
       "[9, 8, 7, 6, 5, 4, 3, 2, 1, 0]"
      ]
     },
     "execution_count": 656,
     "metadata": {},
     "output_type": "execute_result"
    }
   ],
   "source": [
    "In [154]: list(reversed(range(10)))"
   ]
  },
  {
   "cell_type": "code",
   "execution_count": 658,
   "id": "3a2b4799-649d-4a18-aab5-2117fddf5f1c",
   "metadata": {},
   "outputs": [
    {
     "name": "stdout",
     "output_type": "stream",
     "text": [
      "[4, 16, 36, 64, 100]\n"
     ]
    }
   ],
   "source": [
    "# Example collection\n",
    "collection = [1, 2, 3, 4, 5, 6, 7, 8, 9, 10]\n",
    "\n",
    "# Initialize an empty result list\n",
    "result = []\n",
    "\n",
    "# Iterate over the collection\n",
    "for value in collection:\n",
    "    # Define a condition (e.g., keep only even numbers)\n",
    "    if value % 2 == 0:\n",
    "        # Define an expression (e.g., square the value)\n",
    "        result.append(value ** 2)\n",
    "\n",
    "# Print the resulting list\n",
    "print(result)"
   ]
  },
  {
   "cell_type": "code",
   "execution_count": 660,
   "id": "dbe1c0a2-1fc7-468f-93cb-2992716d8e57",
   "metadata": {},
   "outputs": [
    {
     "data": {
      "text/plain": [
       "['BAT', 'CAR', 'DOVE', 'PYTHON']"
      ]
     },
     "execution_count": 660,
     "metadata": {},
     "output_type": "execute_result"
    }
   ],
   "source": [
    "In [155]: strings = [\"a\", \"as\", \"bat\", \"car\", \"dove\", \"python\"]\n",
    "\n",
    "In [156]: [x.upper() for x in strings if len(x) > 2]"
   ]
  },
  {
   "cell_type": "code",
   "execution_count": 662,
   "id": "1ee09ef6-3365-4bf2-af49-c10762216fb6",
   "metadata": {},
   "outputs": [
    {
     "name": "stdout",
     "output_type": "stream",
     "text": [
      "{2: 4, 4: 16, 6: 36, 8: 64, 10: 100}\n"
     ]
    }
   ],
   "source": [
    "# Example collection\n",
    "collection = [1, 2, 3, 4, 5, 6, 7, 8, 9, 10]\n",
    "\n",
    "dict_comp = {value: value ** 2 for value in collection if value % 2 == 0}\n",
    "\n",
    "# Print the resulting dictionary\n",
    "print(dict_comp)"
   ]
  },
  {
   "cell_type": "code",
   "execution_count": 664,
   "id": "bc516f62-6502-4f86-b181-1e879008d8d0",
   "metadata": {},
   "outputs": [
    {
     "name": "stdout",
     "output_type": "stream",
     "text": [
      "{64, 100, 4, 36, 16}\n"
     ]
    }
   ],
   "source": [
    "# Example collection\n",
    "collection = [1, 2, 3, 4, 5, 6, 7, 8, 9, 10]\n",
    "\n",
    "# Set comprehension with a condition\n",
    "set_comp = {value ** 2 for value in collection if value % 2 == 0}\n",
    "\n",
    "# Print the resulting set\n",
    "print(set_comp)"
   ]
  },
  {
   "cell_type": "code",
   "execution_count": 666,
   "id": "f671dba0-b2d5-498e-b584-8d40780b4612",
   "metadata": {},
   "outputs": [
    {
     "data": {
      "text/plain": [
       "{1, 2, 3, 4, 6}"
      ]
     },
     "execution_count": 666,
     "metadata": {},
     "output_type": "execute_result"
    }
   ],
   "source": [
    "In [157]: unique_lengths = {len(x) for x in strings}\n",
    "\n",
    "In [158]: unique_lengths"
   ]
  },
  {
   "cell_type": "code",
   "execution_count": 668,
   "id": "59cc1c4e-c7ab-4c9d-97bc-f7187804894a",
   "metadata": {},
   "outputs": [
    {
     "data": {
      "text/plain": [
       "{1, 2, 3, 4, 6}"
      ]
     },
     "execution_count": 668,
     "metadata": {},
     "output_type": "execute_result"
    }
   ],
   "source": [
    "In [159]: set(map(len, strings))"
   ]
  },
  {
   "cell_type": "code",
   "execution_count": 670,
   "id": "eadac9af-9b1d-4dab-9956-c642be17b061",
   "metadata": {},
   "outputs": [
    {
     "data": {
      "text/plain": [
       "{'a': 0, 'as': 1, 'bat': 2, 'car': 3, 'dove': 4, 'python': 5}"
      ]
     },
     "execution_count": 670,
     "metadata": {},
     "output_type": "execute_result"
    }
   ],
   "source": [
    "In [160]: loc_mapping = {value: index for index, value in enumerate(strings)}\n",
    "\n",
    "In [161]: loc_mapping"
   ]
  },
  {
   "cell_type": "code",
   "execution_count": 672,
   "id": "b15e7936-7e26-4fab-9ed4-092ecba0eba0",
   "metadata": {},
   "outputs": [],
   "source": [
    "In [162]: all_data = [[\"John\", \"Emily\", \"Michael\", \"Mary\", \"Steven\"],\n",
    "   .....:             [\"Maria\", \"Juan\", \"Javier\", \"Natalia\", \"Pilar\"]]"
   ]
  },
  {
   "cell_type": "code",
   "execution_count": 674,
   "id": "3e9b0223-4edc-4c35-bfef-90fa01356bdc",
   "metadata": {},
   "outputs": [
    {
     "data": {
      "text/plain": [
       "['Maria', 'Natalia']"
      ]
     },
     "execution_count": 674,
     "metadata": {},
     "output_type": "execute_result"
    }
   ],
   "source": [
    "In [163]: names_of_interest = []\n",
    "\n",
    "In [164]: for names in all_data:\n",
    "   .....:     enough_as = [name for name in names if name.count(\"a\") >= 2]\n",
    "   .....:     names_of_interest.extend(enough_as)\n",
    "\n",
    "In [165]: names_of_interest"
   ]
  },
  {
   "cell_type": "code",
   "execution_count": 676,
   "id": "88745ef4-a652-42fe-9d37-49ef9775a543",
   "metadata": {},
   "outputs": [
    {
     "data": {
      "text/plain": [
       "['Maria', 'Natalia']"
      ]
     },
     "execution_count": 676,
     "metadata": {},
     "output_type": "execute_result"
    }
   ],
   "source": [
    "In [166]: result = [name for names in all_data for name in names\n",
    "   .....:           if name.count(\"a\") >= 2]\n",
    "\n",
    "In [167]: result"
   ]
  },
  {
   "cell_type": "code",
   "execution_count": 678,
   "id": "b13da34e-3321-4986-a8f3-31677f9e26b7",
   "metadata": {},
   "outputs": [
    {
     "data": {
      "text/plain": [
       "[1, 2, 3, 4, 5, 6, 7, 8, 9]"
      ]
     },
     "execution_count": 678,
     "metadata": {},
     "output_type": "execute_result"
    }
   ],
   "source": [
    "In [168]: some_tuples = [(1, 2, 3), (4, 5, 6), (7, 8, 9)]\n",
    "\n",
    "In [169]: flattened = [x for tup in some_tuples for x in tup]\n",
    "\n",
    "In [170]: flattened"
   ]
  },
  {
   "cell_type": "code",
   "execution_count": 680,
   "id": "aa2ffe4d-d11a-4995-9f1d-48d7b1bc0590",
   "metadata": {},
   "outputs": [],
   "source": [
    "flattened = []\n",
    "\n",
    "for tup in some_tuples:\n",
    "    for x in tup:\n",
    "        flattened.append(x)"
   ]
  },
  {
   "cell_type": "code",
   "execution_count": 682,
   "id": "10b6a3e2-c949-49af-adf3-2a936c5de2f7",
   "metadata": {},
   "outputs": [
    {
     "data": {
      "text/plain": [
       "[[1, 2, 3], [4, 5, 6], [7, 8, 9]]"
      ]
     },
     "execution_count": 682,
     "metadata": {},
     "output_type": "execute_result"
    }
   ],
   "source": [
    "In [172]: [[x for x in tup] for tup in some_tuples]"
   ]
  },
  {
   "cell_type": "code",
   "execution_count": 684,
   "id": "635a3941-c307-42f9-934b-5ebefd8d3a32",
   "metadata": {},
   "outputs": [],
   "source": [
    "In [173]: def my_function(x, y):\n",
    "   .....:     return x + y"
   ]
  },
  {
   "cell_type": "code",
   "execution_count": 686,
   "id": "9c056a11-c493-4548-abfe-32d98cc68f8f",
   "metadata": {},
   "outputs": [
    {
     "data": {
      "text/plain": [
       "3"
      ]
     },
     "execution_count": 686,
     "metadata": {},
     "output_type": "execute_result"
    }
   ],
   "source": [
    "In [174]: my_function(1, 2)"
   ]
  },
  {
   "cell_type": "code",
   "execution_count": 688,
   "id": "f87130ec-0031-42b3-9371-b908f1aed4dc",
   "metadata": {},
   "outputs": [
    {
     "data": {
      "text/plain": [
       "3"
      ]
     },
     "execution_count": 688,
     "metadata": {},
     "output_type": "execute_result"
    }
   ],
   "source": [
    "In [175]: result = my_function(1, 2)\n",
    "\n",
    "In [176]: result"
   ]
  },
  {
   "cell_type": "code",
   "execution_count": 690,
   "id": "2c359144-065e-46d8-ba66-b36a4ef25c42",
   "metadata": {},
   "outputs": [
    {
     "name": "stdout",
     "output_type": "stream",
     "text": [
      "hello!\n"
     ]
    }
   ],
   "source": [
    "In [177]: def function_without_return(x):\n",
    "   .....:     print(x)\n",
    "\n",
    "In [178]: result = function_without_return(\"hello!\")"
   ]
  },
  {
   "cell_type": "code",
   "execution_count": 692,
   "id": "96211108-1210-49ac-bcf7-0bc1f3f8438e",
   "metadata": {},
   "outputs": [
    {
     "name": "stdout",
     "output_type": "stream",
     "text": [
      "None\n"
     ]
    }
   ],
   "source": [
    "In [179]: print(result)"
   ]
  },
  {
   "cell_type": "code",
   "execution_count": 694,
   "id": "69fd18e9-a045-46d9-8417-685232062184",
   "metadata": {},
   "outputs": [],
   "source": [
    "def my_function2(x, y, z=1.5):\n",
    "    if z > 1:\n",
    "        return z * (x + y)\n",
    "    else:\n",
    "        return z / (x + y)"
   ]
  },
  {
   "cell_type": "code",
   "execution_count": 696,
   "id": "3ac15ef8-77db-4073-b8ab-f8b73b90f628",
   "metadata": {},
   "outputs": [
    {
     "data": {
      "text/plain": [
       "0.06363636363636363"
      ]
     },
     "execution_count": 696,
     "metadata": {},
     "output_type": "execute_result"
    }
   ],
   "source": [
    "In [181]: my_function2(5, 6, z=0.7)"
   ]
  },
  {
   "cell_type": "code",
   "execution_count": 698,
   "id": "30cf5697-6dbb-468c-b3f0-d9f8d8ed53ff",
   "metadata": {},
   "outputs": [
    {
     "data": {
      "text/plain": [
       "35.49"
      ]
     },
     "execution_count": 698,
     "metadata": {},
     "output_type": "execute_result"
    }
   ],
   "source": [
    "In [182]: my_function2(3.14, 7, 3.5)"
   ]
  },
  {
   "cell_type": "code",
   "execution_count": 700,
   "id": "76dc91dc-cec1-4eb1-b38d-4fbfb9c0dc75",
   "metadata": {},
   "outputs": [
    {
     "data": {
      "text/plain": [
       "45.0"
      ]
     },
     "execution_count": 700,
     "metadata": {},
     "output_type": "execute_result"
    }
   ],
   "source": [
    "In [183]: my_function2(10, 20)"
   ]
  },
  {
   "cell_type": "code",
   "execution_count": 702,
   "id": "59457bc6-0322-4a3e-a08f-2fb83c6edc23",
   "metadata": {},
   "outputs": [],
   "source": [
    "def func():\n",
    "    a = []\n",
    "    for i in range(5):\n",
    "        a.append(i)"
   ]
  },
  {
   "cell_type": "code",
   "execution_count": 704,
   "id": "eca1eacf-c659-4fe1-8fc2-8fe606102b17",
   "metadata": {},
   "outputs": [],
   "source": [
    "In [184]: a = []\n",
    "\n",
    "In [185]: def func():\n",
    "   .....:     for i in range(5):\n",
    "   .....:         a.append(i)"
   ]
  },
  {
   "cell_type": "code",
   "execution_count": 706,
   "id": "c9365643-5947-4c45-9033-5838cb86bc7a",
   "metadata": {},
   "outputs": [
    {
     "data": {
      "text/plain": [
       "[0, 1, 2, 3, 4]"
      ]
     },
     "execution_count": 706,
     "metadata": {},
     "output_type": "execute_result"
    }
   ],
   "source": [
    "In [186]: func()\n",
    "\n",
    "In [187]: a"
   ]
  },
  {
   "cell_type": "code",
   "execution_count": 708,
   "id": "0db798af-f7a8-48ad-887c-f94affb4499c",
   "metadata": {},
   "outputs": [
    {
     "data": {
      "text/plain": [
       "[0, 1, 2, 3, 4, 0, 1, 2, 3, 4]"
      ]
     },
     "execution_count": 708,
     "metadata": {},
     "output_type": "execute_result"
    }
   ],
   "source": [
    "In [188]: func()\n",
    "\n",
    "In [189]: a"
   ]
  },
  {
   "cell_type": "code",
   "execution_count": 710,
   "id": "b343e29a-de29-45d3-a3bb-e637fd4ce70e",
   "metadata": {},
   "outputs": [
    {
     "name": "stdout",
     "output_type": "stream",
     "text": [
      "[]\n"
     ]
    }
   ],
   "source": [
    "In [190]: a = None\n",
    "\n",
    "In [191]: def bind_a_variable():\n",
    "   .....:     global a\n",
    "   .....:     a = []\n",
    "   .....: bind_a_variable()\n",
    "   .....:\n",
    "\n",
    "In [192]: print(a)"
   ]
  },
  {
   "cell_type": "code",
   "execution_count": 711,
   "id": "73c43d77-7303-411e-9f54-463d07860a28",
   "metadata": {},
   "outputs": [],
   "source": [
    "def f():\n",
    "    a = 5\n",
    "    b = 6\n",
    "    c = 7\n",
    "    return a, b, c\n",
    "\n",
    "a, b, c = f()"
   ]
  },
  {
   "cell_type": "code",
   "execution_count": 712,
   "id": "49dab484-d144-44a1-98fd-f4103b460e9c",
   "metadata": {},
   "outputs": [],
   "source": [
    "return_value = f()"
   ]
  },
  {
   "cell_type": "code",
   "execution_count": 716,
   "id": "9ff27eb6-7013-4d40-8b5d-35ad137f5742",
   "metadata": {},
   "outputs": [],
   "source": [
    "def f():\n",
    "    a = 5\n",
    "    b = 6\n",
    "    c = 7\n",
    "    return {\"a\" : a, \"b\" : b, \"c\" : c}"
   ]
  },
  {
   "cell_type": "code",
   "execution_count": 717,
   "id": "eaa8e423-f9b0-4db5-9a74-84dda39cb6de",
   "metadata": {},
   "outputs": [],
   "source": [
    "In [193]: states = [\"   Alabama \", \"Georgia!\", \"Georgia\", \"georgia\", \"FlOrIda\", \"south   carolina##\", \"West virginia?\"]"
   ]
  },
  {
   "cell_type": "code",
   "execution_count": 718,
   "id": "3aaffaab-fe28-4a6b-be7b-aa1e7293e49d",
   "metadata": {},
   "outputs": [],
   "source": [
    "import re\n",
    "\n",
    "def clean_strings(strings):\n",
    "    result = []\n",
    "    for value in strings:\n",
    "        value = value.strip()\n",
    "        value = re.sub(\"[!#?]\", \"\", value)\n",
    "        value = value.title()\n",
    "        result.append(value)\n",
    "    return result"
   ]
  },
  {
   "cell_type": "code",
   "execution_count": 719,
   "id": "f3ed584d-e95e-484c-8a7b-9d21656b002e",
   "metadata": {},
   "outputs": [
    {
     "data": {
      "text/plain": [
       "['Alabama',\n",
       " 'Georgia',\n",
       " 'Georgia',\n",
       " 'Georgia',\n",
       " 'Florida',\n",
       " 'South   Carolina',\n",
       " 'West Virginia']"
      ]
     },
     "execution_count": 719,
     "metadata": {},
     "output_type": "execute_result"
    }
   ],
   "source": [
    "In [195]: clean_strings(states)"
   ]
  },
  {
   "cell_type": "code",
   "execution_count": 720,
   "id": "47ecacca-63b3-4c1b-b80c-5236a0af45be",
   "metadata": {},
   "outputs": [],
   "source": [
    "def remove_punctuation(value):\n",
    "    return re.sub(\"[!#?]\", \"\", value)\n",
    "\n",
    "clean_ops = [str.strip, remove_punctuation, str.title]\n",
    "\n",
    "def clean_strings(strings, ops):\n",
    "    result = []\n",
    "    for value in strings:\n",
    "        for func in ops:\n",
    "            value = func(value)\n",
    "        result.append(value)\n",
    "    return result"
   ]
  },
  {
   "cell_type": "code",
   "execution_count": 721,
   "id": "e179250a-5cd1-4e92-b53d-c0021921c146",
   "metadata": {},
   "outputs": [
    {
     "data": {
      "text/plain": [
       "['Alabama',\n",
       " 'Georgia',\n",
       " 'Georgia',\n",
       " 'Georgia',\n",
       " 'Florida',\n",
       " 'South   Carolina',\n",
       " 'West Virginia']"
      ]
     },
     "execution_count": 721,
     "metadata": {},
     "output_type": "execute_result"
    }
   ],
   "source": [
    "In [197]: clean_strings(states, clean_ops)"
   ]
  },
  {
   "cell_type": "code",
   "execution_count": 723,
   "id": "03996c0a-1da1-4a0b-86d2-c2254b6d8011",
   "metadata": {},
   "outputs": [
    {
     "name": "stdout",
     "output_type": "stream",
     "text": [
      "   Alabama \n",
      "Georgia\n",
      "Georgia\n",
      "georgia\n",
      "FlOrIda\n",
      "south   carolina\n",
      "West virginia\n"
     ]
    }
   ],
   "source": [
    "In [198]: for x in map(remove_punctuation, states):\n",
    "   .....:     print(x)"
   ]
  },
  {
   "cell_type": "code",
   "execution_count": 727,
   "id": "28141b07-8e0e-490e-92bf-c9b83ecea711",
   "metadata": {},
   "outputs": [],
   "source": [
    "In [199]: def short_function(x):\n",
    "   .....:     return x * 2\n",
    "\n",
    "In [200]: equiv_anon = lambda x: x * 2"
   ]
  },
  {
   "cell_type": "code",
   "execution_count": 729,
   "id": "d538ec24-8bac-47d3-92b9-d54a75a72a58",
   "metadata": {},
   "outputs": [
    {
     "data": {
      "text/plain": [
       "[8, 0, 2, 10, 12]"
      ]
     },
     "execution_count": 729,
     "metadata": {},
     "output_type": "execute_result"
    }
   ],
   "source": [
    "In [201]: def apply_to_list(some_list, f):\n",
    "   .....:     return [f(x) for x in some_list]\n",
    "\n",
    "In [202]: ints = [4, 0, 1, 5, 6]\n",
    "\n",
    "In [203]: apply_to_list(ints, lambda x: x * 2)"
   ]
  },
  {
   "cell_type": "code",
   "execution_count": 732,
   "id": "26edf754-1521-4614-9d7d-44c84e2769d6",
   "metadata": {},
   "outputs": [],
   "source": [
    "In [204]: strings = [\"foo\", \"card\", \"bar\", \"aaaa\", \"abab\"]"
   ]
  },
  {
   "cell_type": "code",
   "execution_count": 734,
   "id": "46ab57df-3b4e-4bab-8f8e-ca5244a99b06",
   "metadata": {},
   "outputs": [
    {
     "data": {
      "text/plain": [
       "['aaaa', 'foo', 'abab', 'bar', 'card']"
      ]
     },
     "execution_count": 734,
     "metadata": {},
     "output_type": "execute_result"
    }
   ],
   "source": [
    "In [205]: strings.sort(key=lambda x: len(set(x)))\n",
    "\n",
    "In [206]: strings"
   ]
  },
  {
   "cell_type": "code",
   "execution_count": 737,
   "id": "6e1906b6-2675-44dd-a1d0-73ea66eb685f",
   "metadata": {},
   "outputs": [
    {
     "name": "stdout",
     "output_type": "stream",
     "text": [
      "a\n",
      "b\n",
      "c\n"
     ]
    }
   ],
   "source": [
    "In [207]: some_dict = {\"a\": 1, \"b\": 2, \"c\": 3}\n",
    "\n",
    "In [208]: for key in some_dict:\n",
    "   .....:     print(key)"
   ]
  },
  {
   "cell_type": "code",
   "execution_count": 739,
   "id": "7c4918ff-2b5c-4af8-b79f-e9236f9601a0",
   "metadata": {},
   "outputs": [
    {
     "data": {
      "text/plain": [
       "<dict_keyiterator at 0x225ffe46840>"
      ]
     },
     "execution_count": 739,
     "metadata": {},
     "output_type": "execute_result"
    }
   ],
   "source": [
    "In [209]: dict_iterator = iter(some_dict)\n",
    "\n",
    "In [210]: dict_iterator"
   ]
  },
  {
   "cell_type": "code",
   "execution_count": 742,
   "id": "39f17327-111d-47b4-9f47-94239fc0409d",
   "metadata": {},
   "outputs": [
    {
     "data": {
      "text/plain": [
       "['a', 'b', 'c']"
      ]
     },
     "execution_count": 742,
     "metadata": {},
     "output_type": "execute_result"
    }
   ],
   "source": [
    "In [211]: list(dict_iterator)"
   ]
  },
  {
   "cell_type": "code",
   "execution_count": 744,
   "id": "719bbf47-4cb8-48ad-8e8b-5bf3b0433156",
   "metadata": {},
   "outputs": [],
   "source": [
    "def squares(n=10):\n",
    "    print(f\"Generating squares from 1 to {n ** 2}\")\n",
    "    for i in range(1, n + 1):\n",
    "        yield i ** 2"
   ]
  },
  {
   "cell_type": "code",
   "execution_count": 745,
   "id": "9517a8cb-12ca-43dd-8145-441981b61db8",
   "metadata": {},
   "outputs": [
    {
     "data": {
      "text/plain": [
       "<generator object squares at 0x00000225FE0A3840>"
      ]
     },
     "execution_count": 745,
     "metadata": {},
     "output_type": "execute_result"
    }
   ],
   "source": [
    "In [213]: gen = squares()\n",
    "\n",
    "In [214]: gen"
   ]
  },
  {
   "cell_type": "code",
   "execution_count": 748,
   "id": "f89683b2-065b-4c8e-9a4b-c143e4336722",
   "metadata": {},
   "outputs": [
    {
     "name": "stdout",
     "output_type": "stream",
     "text": [
      "Generating squares from 1 to 100\n",
      "1 4 9 16 25 36 49 64 81 100 "
     ]
    }
   ],
   "source": [
    "In [215]: for x in gen:\n",
    "   .....:     print(x, end=\" \")"
   ]
  },
  {
   "cell_type": "code",
   "execution_count": 750,
   "id": "990388f5-106b-4702-8aa1-b9e6ffa5e12f",
   "metadata": {},
   "outputs": [
    {
     "data": {
      "text/plain": [
       "<generator object <genexpr> at 0x00000225FFEBC790>"
      ]
     },
     "execution_count": 750,
     "metadata": {},
     "output_type": "execute_result"
    }
   ],
   "source": [
    "In [216]: gen = (x ** 2 for x in range(100))\n",
    "\n",
    "In [217]: gen"
   ]
  },
  {
   "cell_type": "code",
   "execution_count": 752,
   "id": "48fb9afd-e6ff-4f0f-bdf4-ef596ffbe630",
   "metadata": {},
   "outputs": [],
   "source": [
    "def _make_gen():\n",
    "    for x in range(100):\n",
    "        yield x ** 2\n",
    "gen = _make_gen()"
   ]
  },
  {
   "cell_type": "code",
   "execution_count": 754,
   "id": "cf866e75-9a06-4b8a-aba2-422baddbdf48",
   "metadata": {},
   "outputs": [
    {
     "data": {
      "text/plain": [
       "328350"
      ]
     },
     "execution_count": 754,
     "metadata": {},
     "output_type": "execute_result"
    }
   ],
   "source": [
    "In [218]: sum(x ** 2 for x in range(100))"
   ]
  },
  {
   "cell_type": "code",
   "execution_count": 756,
   "id": "fb970efa-bb06-49ea-aa77-5e6ccea605a8",
   "metadata": {},
   "outputs": [
    {
     "data": {
      "text/plain": [
       "{0: 0, 1: 1, 2: 4, 3: 9, 4: 16}"
      ]
     },
     "execution_count": 756,
     "metadata": {},
     "output_type": "execute_result"
    }
   ],
   "source": [
    "In [219]: dict((i, i ** 2) for i in range(5))"
   ]
  },
  {
   "cell_type": "code",
   "execution_count": 758,
   "id": "f74371c0-ac2a-4d7e-be5d-38b03ea47bf6",
   "metadata": {},
   "outputs": [
    {
     "name": "stdout",
     "output_type": "stream",
     "text": [
      "A ['Alan', 'Adam']\n",
      "W ['Wes', 'Will']\n",
      "A ['Albert']\n",
      "S ['Steven']\n"
     ]
    }
   ],
   "source": [
    "In [220]: import itertools\n",
    "\n",
    "In [221]: def first_letter(x):\n",
    "   .....:     return x[0]\n",
    "\n",
    "In [222]: names = [\"Alan\", \"Adam\", \"Wes\", \"Will\", \"Albert\", \"Steven\"]\n",
    "\n",
    "In [223]: for letter, names in itertools.groupby(names, first_letter):\n",
    "   .....:     print(letter, list(names)) # names is a generator"
   ]
  },
  {
   "cell_type": "code",
   "execution_count": 760,
   "id": "71097db0-32cc-4529-a505-8e25ad6f0235",
   "metadata": {},
   "outputs": [
    {
     "data": {
      "text/plain": [
       "1.2345"
      ]
     },
     "execution_count": 760,
     "metadata": {},
     "output_type": "execute_result"
    }
   ],
   "source": [
    "In [224]: float(\"1.2345\")"
   ]
  },
  {
   "cell_type": "code",
   "execution_count": 762,
   "id": "d28e14f1-48ae-4eca-91c0-6cf490a08703",
   "metadata": {},
   "outputs": [
    {
     "ename": "ValueError",
     "evalue": "could not convert string to float: 'something'",
     "output_type": "error",
     "traceback": [
      "\u001b[1;31m---------------------------------------------------------------------------\u001b[0m",
      "\u001b[1;31mValueError\u001b[0m                                Traceback (most recent call last)",
      "Cell \u001b[1;32mIn[762], line 1\u001b[0m\n\u001b[1;32m----> 1\u001b[0m \u001b[38;5;28mfloat\u001b[39m(\u001b[38;5;124m\"\u001b[39m\u001b[38;5;124msomething\u001b[39m\u001b[38;5;124m\"\u001b[39m)\n",
      "\u001b[1;31mValueError\u001b[0m: could not convert string to float: 'something'"
     ]
    }
   ],
   "source": [
    "In [225]: float(\"something\")"
   ]
  },
  {
   "cell_type": "code",
   "execution_count": 764,
   "id": "b533d3a8-9d34-4d1d-b75a-1f07b7a19f1c",
   "metadata": {},
   "outputs": [],
   "source": [
    "def attempt_float(x):\n",
    "    try:\n",
    "        return float(x)\n",
    "    except:\n",
    "        return x"
   ]
  },
  {
   "cell_type": "code",
   "execution_count": 766,
   "id": "bfd43e64-1a98-4437-aa03-f5ca9d421915",
   "metadata": {},
   "outputs": [
    {
     "data": {
      "text/plain": [
       "1.2345"
      ]
     },
     "execution_count": 766,
     "metadata": {},
     "output_type": "execute_result"
    }
   ],
   "source": [
    "In [227]: attempt_float(\"1.2345\")"
   ]
  },
  {
   "cell_type": "code",
   "execution_count": 768,
   "id": "5aa5a0cf-ace2-47b7-9e13-ed266e9cb76e",
   "metadata": {},
   "outputs": [
    {
     "data": {
      "text/plain": [
       "'something'"
      ]
     },
     "execution_count": 768,
     "metadata": {},
     "output_type": "execute_result"
    }
   ],
   "source": [
    "In [228]: attempt_float(\"something\")"
   ]
  },
  {
   "cell_type": "code",
   "execution_count": 770,
   "id": "4bc66aba-c488-49d3-a0ed-b7c222464d9d",
   "metadata": {},
   "outputs": [
    {
     "ename": "TypeError",
     "evalue": "float() argument must be a string or a real number, not 'tuple'",
     "output_type": "error",
     "traceback": [
      "\u001b[1;31m---------------------------------------------------------------------------\u001b[0m",
      "\u001b[1;31mTypeError\u001b[0m                                 Traceback (most recent call last)",
      "Cell \u001b[1;32mIn[770], line 1\u001b[0m\n\u001b[1;32m----> 1\u001b[0m \u001b[38;5;28mfloat\u001b[39m((\u001b[38;5;241m1\u001b[39m, \u001b[38;5;241m2\u001b[39m))\n",
      "\u001b[1;31mTypeError\u001b[0m: float() argument must be a string or a real number, not 'tuple'"
     ]
    }
   ],
   "source": [
    "In [229]: float((1, 2))"
   ]
  },
  {
   "cell_type": "code",
   "execution_count": 772,
   "id": "e9109fcd-bdd7-481f-be04-c2b1f9b65272",
   "metadata": {},
   "outputs": [],
   "source": [
    "def attempt_float(x):\n",
    "    try:\n",
    "        return float(x)\n",
    "    except ValueError:\n",
    "        return x"
   ]
  },
  {
   "cell_type": "code",
   "execution_count": 774,
   "id": "e9748b35-a9ab-4dc9-8b13-2a65e80e9924",
   "metadata": {},
   "outputs": [
    {
     "ename": "TypeError",
     "evalue": "float() argument must be a string or a real number, not 'tuple'",
     "output_type": "error",
     "traceback": [
      "\u001b[1;31m---------------------------------------------------------------------------\u001b[0m",
      "\u001b[1;31mTypeError\u001b[0m                                 Traceback (most recent call last)",
      "Cell \u001b[1;32mIn[774], line 1\u001b[0m\n\u001b[1;32m----> 1\u001b[0m attempt_float((\u001b[38;5;241m1\u001b[39m, \u001b[38;5;241m2\u001b[39m))\n",
      "Cell \u001b[1;32mIn[772], line 3\u001b[0m, in \u001b[0;36mattempt_float\u001b[1;34m(x)\u001b[0m\n\u001b[0;32m      1\u001b[0m \u001b[38;5;28;01mdef\u001b[39;00m \u001b[38;5;21mattempt_float\u001b[39m(x):\n\u001b[0;32m      2\u001b[0m     \u001b[38;5;28;01mtry\u001b[39;00m:\n\u001b[1;32m----> 3\u001b[0m         \u001b[38;5;28;01mreturn\u001b[39;00m \u001b[38;5;28mfloat\u001b[39m(x)\n\u001b[0;32m      4\u001b[0m     \u001b[38;5;28;01mexcept\u001b[39;00m \u001b[38;5;167;01mValueError\u001b[39;00m:\n\u001b[0;32m      5\u001b[0m         \u001b[38;5;28;01mreturn\u001b[39;00m x\n",
      "\u001b[1;31mTypeError\u001b[0m: float() argument must be a string or a real number, not 'tuple'"
     ]
    }
   ],
   "source": [
    "In [231]: attempt_float((1, 2))"
   ]
  },
  {
   "cell_type": "code",
   "execution_count": 776,
   "id": "2487909a-7401-44b9-a00f-546d5f5ad810",
   "metadata": {},
   "outputs": [],
   "source": [
    "def attempt_float(x):\n",
    "    try:\n",
    "        return float(x)\n",
    "    except (TypeError, ValueError):\n",
    "        return x"
   ]
  },
  {
   "cell_type": "code",
   "execution_count": 778,
   "id": "4c8ca3cc-580c-4bc4-a4ab-0b4d4107d9de",
   "metadata": {},
   "outputs": [],
   "source": [
    "def write_to_file(file):\n",
    "    # Example content to write to the file\n",
    "    content = [\"Imagine\\n\", \"Bohemian Rhapsody\\n\", \"Hotel California\\n\"]\n",
    "    \n",
    "    for line in content:\n",
    "        file.write(line)"
   ]
  },
  {
   "cell_type": "code",
   "execution_count": 780,
   "id": "0b87ce2e-99ea-4efb-9652-ce20f108d909",
   "metadata": {},
   "outputs": [],
   "source": [
    "path = \"songs.txt\"\n",
    "f = open(path, mode=\"w\")\n",
    "\n",
    "try:\n",
    "    write_to_file(f)\n",
    "finally:\n",
    "    f.close()"
   ]
  },
  {
   "cell_type": "code",
   "execution_count": 782,
   "id": "b7695af4-6f57-4430-ae3c-92f2b037f548",
   "metadata": {},
   "outputs": [
    {
     "name": "stdout",
     "output_type": "stream",
     "text": [
      "Imagine\n",
      "Bohemian Rhapsody\n",
      "Hotel California\n",
      "\n"
     ]
    }
   ],
   "source": [
    "with open(path, mode=\"r\") as file:\n",
    "    content = file.read()\n",
    "    print(content)"
   ]
  },
  {
   "cell_type": "code",
   "execution_count": 784,
   "id": "0ac69dec-4009-46c0-bf15-41bb0f8ed9b0",
   "metadata": {},
   "outputs": [
    {
     "name": "stdout",
     "output_type": "stream",
     "text": [
      "Succeeded\n"
     ]
    }
   ],
   "source": [
    "f = open(path, mode=\"w\")\n",
    "\n",
    "try:\n",
    "    write_to_file(f)\n",
    "except:\n",
    "    print(\"Failed\")\n",
    "else:\n",
    "    print(\"Succeeded\")\n",
    "finally:\n",
    "    f.close()"
   ]
  },
  {
   "cell_type": "code",
   "execution_count": 786,
   "id": "78e52894-78cc-454c-9c23-a1e1ce9e4aab",
   "metadata": {},
   "outputs": [],
   "source": [
    "In [233]: path = \"songs.txt\"\n",
    "\n",
    "In [234]: f = open(path, encoding=\"utf-8\")"
   ]
  },
  {
   "cell_type": "code",
   "execution_count": 788,
   "id": "176572e1-50d9-4655-951b-6a2fa07cc5f8",
   "metadata": {},
   "outputs": [
    {
     "name": "stdout",
     "output_type": "stream",
     "text": [
      "Imagine\n",
      "\n",
      "Bohemian Rhapsody\n",
      "\n",
      "Hotel California\n",
      "\n"
     ]
    }
   ],
   "source": [
    "for line in f:\n",
    "    print(line)"
   ]
  },
  {
   "cell_type": "code",
   "execution_count": 790,
   "id": "c0f4e0bc-8e16-4bc0-90e8-ba0370533d89",
   "metadata": {},
   "outputs": [
    {
     "data": {
      "text/plain": [
       "['Imagine', 'Bohemian Rhapsody', 'Hotel California']"
      ]
     },
     "execution_count": 790,
     "metadata": {},
     "output_type": "execute_result"
    }
   ],
   "source": [
    "In [235]: lines = [x.rstrip() for x in open(path, encoding=\"utf-8\")]\n",
    "\n",
    "In [236]: lines"
   ]
  },
  {
   "cell_type": "code",
   "execution_count": 792,
   "id": "2222ef8c-d849-499c-ae5d-82e52c2e00e7",
   "metadata": {},
   "outputs": [],
   "source": [
    "In [237]: f.close()"
   ]
  },
  {
   "cell_type": "code",
   "execution_count": 794,
   "id": "d5a3d891-9bfa-4d38-833b-0547082977ac",
   "metadata": {},
   "outputs": [],
   "source": [
    "In [238]: with open(path, encoding=\"utf-8\") as f:\n",
    "   .....:     lines = [x.rstrip() for x in f]"
   ]
  },
  {
   "cell_type": "code",
   "execution_count": 796,
   "id": "1fcb02b8-d03d-4d93-b385-8235f033f26b",
   "metadata": {},
   "outputs": [
    {
     "data": {
      "text/plain": [
       "'Imagine\\nBo'"
      ]
     },
     "execution_count": 796,
     "metadata": {},
     "output_type": "execute_result"
    }
   ],
   "source": [
    "In [239]: f1 = open(path)\n",
    "\n",
    "In [240]: f1.read(10)"
   ]
  },
  {
   "cell_type": "code",
   "execution_count": 798,
   "id": "db7f56a6-07fb-4b07-b579-34ba8104ab13",
   "metadata": {},
   "outputs": [
    {
     "data": {
      "text/plain": [
       "b'Imagine\\r\\nB'"
      ]
     },
     "execution_count": 798,
     "metadata": {},
     "output_type": "execute_result"
    }
   ],
   "source": [
    "In [241]: f2 = open(path, mode=\"rb\")  # Binary mode\n",
    "\n",
    "In [242]: f2.read(10)"
   ]
  },
  {
   "cell_type": "code",
   "execution_count": 800,
   "id": "4f000fa3-f28c-4462-815f-1d8d3fe2e2ed",
   "metadata": {},
   "outputs": [
    {
     "data": {
      "text/plain": [
       "11"
      ]
     },
     "execution_count": 800,
     "metadata": {},
     "output_type": "execute_result"
    }
   ],
   "source": [
    "In [243]: f1.tell()"
   ]
  },
  {
   "cell_type": "code",
   "execution_count": 802,
   "id": "06a9b3a7-06ef-4f99-85bf-096f5883809b",
   "metadata": {},
   "outputs": [
    {
     "data": {
      "text/plain": [
       "10"
      ]
     },
     "execution_count": 802,
     "metadata": {},
     "output_type": "execute_result"
    }
   ],
   "source": [
    "In [243]: f2.tell()"
   ]
  },
  {
   "cell_type": "code",
   "execution_count": 804,
   "id": "7429f964-0bc2-4175-9819-3e8ac03fa496",
   "metadata": {},
   "outputs": [
    {
     "data": {
      "text/plain": [
       "'utf-8'"
      ]
     },
     "execution_count": 804,
     "metadata": {},
     "output_type": "execute_result"
    }
   ],
   "source": [
    "In [245]: import sys\n",
    "\n",
    "In [246]: sys.getdefaultencoding()"
   ]
  },
  {
   "cell_type": "code",
   "execution_count": 805,
   "id": "ddd2f256-51ca-4591-a868-c71fbc5e0579",
   "metadata": {},
   "outputs": [
    {
     "data": {
      "text/plain": [
       "3"
      ]
     },
     "execution_count": 805,
     "metadata": {},
     "output_type": "execute_result"
    }
   ],
   "source": [
    "In [247]: f1.seek(3)"
   ]
  },
  {
   "cell_type": "code",
   "execution_count": 808,
   "id": "eb2037eb-8e1f-413d-a3c3-9d0f6e87761d",
   "metadata": {},
   "outputs": [
    {
     "data": {
      "text/plain": [
       "'g'"
      ]
     },
     "execution_count": 808,
     "metadata": {},
     "output_type": "execute_result"
    }
   ],
   "source": [
    "In [248]: f1.read(1)"
   ]
  },
  {
   "cell_type": "code",
   "execution_count": 810,
   "id": "a89d0370-06cf-419b-aa82-bc3114f1c584",
   "metadata": {},
   "outputs": [
    {
     "data": {
      "text/plain": [
       "4"
      ]
     },
     "execution_count": 810,
     "metadata": {},
     "output_type": "execute_result"
    }
   ],
   "source": [
    "In [249]: f1.tell()"
   ]
  },
  {
   "cell_type": "code",
   "execution_count": 812,
   "id": "8060ecfd-5f44-4a0f-930d-dcf415e6d24c",
   "metadata": {},
   "outputs": [],
   "source": [
    "In [250]: f1.close()\n",
    "\n",
    "In [251]: f2.close()"
   ]
  },
  {
   "cell_type": "code",
   "execution_count": 814,
   "id": "738b6269-0657-422b-9287-37c13e0744c4",
   "metadata": {},
   "outputs": [
    {
     "data": {
      "text/plain": [
       "'songs.txt'"
      ]
     },
     "execution_count": 814,
     "metadata": {},
     "output_type": "execute_result"
    }
   ],
   "source": [
    "In [252]: path"
   ]
  },
  {
   "cell_type": "code",
   "execution_count": 816,
   "id": "e597fd1b-382c-4b58-b24a-db2fbba92df0",
   "metadata": {},
   "outputs": [
    {
     "data": {
      "text/plain": [
       "['Imagine\\n', 'Bohemian Rhapsody\\n', 'Hotel California\\n']"
      ]
     },
     "execution_count": 816,
     "metadata": {},
     "output_type": "execute_result"
    }
   ],
   "source": [
    "In [253]: with open(\"tmp.txt\", mode=\"w\") as handle:\n",
    "   .....:     handle.writelines(x for x in open(path) if len(x) > 1)\n",
    "\n",
    "In [254]: with open(\"tmp.txt\") as f:\n",
    "   .....:     lines = f.readlines()\n",
    "\n",
    "In [255]: lines"
   ]
  },
  {
   "cell_type": "code",
   "execution_count": 818,
   "id": "a409f94c-9c8b-4e6c-8949-4463bf6cef88",
   "metadata": {},
   "outputs": [
    {
     "data": {
      "text/plain": [
       "'Imagine\\nBo'"
      ]
     },
     "execution_count": 818,
     "metadata": {},
     "output_type": "execute_result"
    }
   ],
   "source": [
    "In [258]: with open(path) as f:\n",
    "   .....:     chars = f.read(10)\n",
    "\n",
    "In [259]: chars"
   ]
  },
  {
   "cell_type": "code",
   "execution_count": 820,
   "id": "611147df-fb48-422d-8ec9-95d61690d9d9",
   "metadata": {},
   "outputs": [
    {
     "data": {
      "text/plain": [
       "10"
      ]
     },
     "execution_count": 820,
     "metadata": {},
     "output_type": "execute_result"
    }
   ],
   "source": [
    "In [260]: len(chars)"
   ]
  },
  {
   "cell_type": "code",
   "execution_count": 822,
   "id": "5fbf9352-890d-4a99-9d3b-8a2680eacaf4",
   "metadata": {},
   "outputs": [
    {
     "data": {
      "text/plain": [
       "b'Imagine\\r\\nB'"
      ]
     },
     "execution_count": 822,
     "metadata": {},
     "output_type": "execute_result"
    }
   ],
   "source": [
    "In [261]: with open(path, mode=\"rb\") as f:\n",
    "   .....:     data = f.read(10)\n",
    "\n",
    "In [262]: data"
   ]
  },
  {
   "cell_type": "code",
   "execution_count": 824,
   "id": "637864d8-5f1d-4ca3-b0fe-fc1d0d663940",
   "metadata": {},
   "outputs": [
    {
     "data": {
      "text/plain": [
       "'Imagine\\r\\nB'"
      ]
     },
     "execution_count": 824,
     "metadata": {},
     "output_type": "execute_result"
    }
   ],
   "source": [
    "In [263]: data.decode(\"utf-8\")"
   ]
  },
  {
   "cell_type": "code",
   "execution_count": 826,
   "id": "ad870c2d-783c-4c97-8df6-72cb893f4273",
   "metadata": {},
   "outputs": [
    {
     "data": {
      "text/plain": [
       "'Imag'"
      ]
     },
     "execution_count": 826,
     "metadata": {},
     "output_type": "execute_result"
    }
   ],
   "source": [
    "In [264]: data[:4].decode(\"utf-8\")"
   ]
  },
  {
   "cell_type": "code",
   "execution_count": 845,
   "id": "0e499016-c22e-4767-91a6-aba447a42eb8",
   "metadata": {},
   "outputs": [
    {
     "name": "stdout",
     "output_type": "stream",
     "text": [
      "Imagine\n",
      "Bo\n"
     ]
    }
   ],
   "source": [
    "In [265]: sink_path = \"sink.txt\"\n",
    "\n",
    "In [266]: with open(path) as source:\n",
    "   .....:     with open(sink_path, \"x\", encoding=\"iso-8859-1\") as sink:\n",
    "   .....:         sink.write(source.read())\n",
    "\n",
    "In [267]: with open(sink_path, encoding=\"iso-8859-1\") as f:\n",
    "   .....:     print(f.read(10))"
   ]
  },
  {
   "cell_type": "code",
   "execution_count": 830,
   "id": "a3a9e97b-35e3-47f1-8a55-7b39698d25e9",
   "metadata": {},
   "outputs": [
    {
     "data": {
      "text/plain": [
       "'Imagi'"
      ]
     },
     "execution_count": 830,
     "metadata": {},
     "output_type": "execute_result"
    }
   ],
   "source": [
    "In [269]: f = open(path, encoding='utf-8')\n",
    "\n",
    "In [270]: f.read(5)"
   ]
  },
  {
   "cell_type": "code",
   "execution_count": 832,
   "id": "81dd2b05-04d3-4a9d-8dbc-344d12e3284d",
   "metadata": {},
   "outputs": [
    {
     "data": {
      "text/plain": [
       "4"
      ]
     },
     "execution_count": 832,
     "metadata": {},
     "output_type": "execute_result"
    }
   ],
   "source": [
    "In [271]: f.seek(4)"
   ]
  },
  {
   "cell_type": "code",
   "execution_count": 834,
   "id": "70984c67-a09d-4186-a44c-ea865869a7bd",
   "metadata": {},
   "outputs": [
    {
     "data": {
      "text/plain": [
       "'i'"
      ]
     },
     "execution_count": 834,
     "metadata": {},
     "output_type": "execute_result"
    }
   ],
   "source": [
    "In [272]: f.read(1)"
   ]
  },
  {
   "cell_type": "code",
   "execution_count": 836,
   "id": "2bb99b3d-8c06-4d71-9068-b783628488c9",
   "metadata": {},
   "outputs": [],
   "source": [
    "In [273]: f.close()"
   ]
  }
 ],
 "metadata": {
  "kernelspec": {
   "display_name": "Python 3 (ipykernel)",
   "language": "python",
   "name": "python3"
  },
  "language_info": {
   "codemirror_mode": {
    "name": "ipython",
    "version": 3
   },
   "file_extension": ".py",
   "mimetype": "text/x-python",
   "name": "python",
   "nbconvert_exporter": "python",
   "pygments_lexer": "ipython3",
   "version": "3.12.4"
  }
 },
 "nbformat": 4,
 "nbformat_minor": 5
}
